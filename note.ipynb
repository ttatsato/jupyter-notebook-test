{
 "cells": [
  {
   "cell_type": "markdown",
   "metadata": {
    "colab_type": "text",
    "id": "8yxeKSh2ajaC"
   },
   "source": [
    "# ベクトル化の実験"
   ]
  },
  {
   "cell_type": "markdown",
   "metadata": {
    "colab_type": "text",
    "id": "GqLjV9ZyaiCB"
   },
   "source": [
    "## 各種インストール"
   ]
  },
  {
   "cell_type": "code",
   "execution_count": 2,
   "metadata": {
    "colab": {
     "autoexec": {
      "startup": false,
      "wait_interval": 0
     },
     "base_uri": "https://localhost:8080/",
     "height": 354
    },
    "colab_type": "code",
    "executionInfo": {
     "elapsed": 3043,
     "status": "ok",
     "timestamp": 1527220588093,
     "user": {
      "displayName": "大下健史",
      "photoUrl": "https://lh3.googleusercontent.com/a/default-user=s128",
      "userId": "114806679545096700120"
     },
     "user_tz": -540
    },
    "id": "8Xqbk3EAOlxm",
    "outputId": "26c2c147-0d71-4116-e2fa-92d198030dd9"
   },
   "outputs": [
    {
     "name": "stdout",
     "output_type": "stream",
     "text": [
      "Requirement already satisfied: gensim in /usr/local/lib/python3.6/dist-packages (3.4.0)\n",
      "Requirement already satisfied: scipy>=0.18.1 in /usr/local/lib/python3.6/dist-packages (from gensim) (0.19.1)\n",
      "Requirement already satisfied: six>=1.5.0 in /usr/local/lib/python3.6/dist-packages (from gensim) (1.11.0)\n",
      "Requirement already satisfied: smart-open>=1.2.1 in /usr/local/lib/python3.6/dist-packages (from gensim) (1.5.7)\n",
      "Requirement already satisfied: numpy>=1.11.3 in /usr/local/lib/python3.6/dist-packages (from gensim) (1.14.3)\n",
      "Requirement already satisfied: boto>=2.32 in /usr/local/lib/python3.6/dist-packages (from smart-open>=1.2.1->gensim) (2.48.0)\n",
      "Requirement already satisfied: bz2file in /usr/local/lib/python3.6/dist-packages (from smart-open>=1.2.1->gensim) (0.98)\n",
      "Requirement already satisfied: requests in /usr/local/lib/python3.6/dist-packages (from smart-open>=1.2.1->gensim) (2.18.4)\n",
      "Requirement already satisfied: boto3 in /usr/local/lib/python3.6/dist-packages (from smart-open>=1.2.1->gensim) (1.7.27)\n",
      "Requirement already satisfied: certifi>=2017.4.17 in /usr/local/lib/python3.6/dist-packages (from requests->smart-open>=1.2.1->gensim) (2018.4.16)\n",
      "Requirement already satisfied: chardet<3.1.0,>=3.0.2 in /usr/local/lib/python3.6/dist-packages (from requests->smart-open>=1.2.1->gensim) (3.0.4)\n",
      "Requirement already satisfied: urllib3<1.23,>=1.21.1 in /usr/local/lib/python3.6/dist-packages (from requests->smart-open>=1.2.1->gensim) (1.22)\n",
      "Requirement already satisfied: idna<2.7,>=2.5 in /usr/local/lib/python3.6/dist-packages (from requests->smart-open>=1.2.1->gensim) (2.6)\n",
      "Requirement already satisfied: s3transfer<0.2.0,>=0.1.10 in /usr/local/lib/python3.6/dist-packages (from boto3->smart-open>=1.2.1->gensim) (0.1.13)\n",
      "Requirement already satisfied: botocore<1.11.0,>=1.10.27 in /usr/local/lib/python3.6/dist-packages (from boto3->smart-open>=1.2.1->gensim) (1.10.27)\n",
      "Requirement already satisfied: jmespath<1.0.0,>=0.7.1 in /usr/local/lib/python3.6/dist-packages (from boto3->smart-open>=1.2.1->gensim) (0.9.3)\n",
      "Requirement already satisfied: docutils>=0.10 in /usr/local/lib/python3.6/dist-packages (from botocore<1.11.0,>=1.10.27->boto3->smart-open>=1.2.1->gensim) (0.14)\n",
      "Requirement already satisfied: python-dateutil<3.0.0,>=2.1; python_version >= \"2.7\" in /usr/local/lib/python3.6/dist-packages (from botocore<1.11.0,>=1.10.27->boto3->smart-open>=1.2.1->gensim) (2.5.3)\n"
     ]
    }
   ],
   "source": [
    "!pip install gensim"
   ]
  },
  {
   "cell_type": "code",
   "execution_count": 3,
   "metadata": {
    "colab": {
     "autoexec": {
      "startup": false,
      "wait_interval": 0
     }
    },
    "colab_type": "code",
    "id": "dq6wuEK3udsg"
   },
   "outputs": [],
   "source": [
    "docs=[] \n",
    "\n",
    "# \"5-aminolevulinic\" is searched in PubMed\n",
    "docs.append(\"This study aimed to produce inexpensive 5-aminolevulinic acid (ALA) in a non-sterile latex rubber sheet wastewater (RSW) by Rhodopseudomonas palustris TN114 and PP803 for the possibility to use in agricultural purposes by investigating the optimum conditions, and applying of wood vinegar (WV) as an economical source of levulinic acid to enhance ALA content. The Box-Behnken Design experiment was conducted under microaerobic-light conditions for 96 h with TN114, PP803 and their mixed culture (1:1) by varying initial pH, inoculum size (% v/v) and initial chemical oxygen demand (COD, mg/L). Results showed that the optimal condition (pH, % inoculum size, COD) of each set to produce extracellular ALA was found at 7.50, 6.00, 2000 for TN114; 7.50, 7.00, 3000 for PP803; and 7.50, 6.00, 4000 for a mixed culture; and each set achieved COD reduction as high as 63%, 71% and 75%, respectively. Addition of the optimal concentration of WV at mid log phase at 0.63% for TN114, and 1.25% for PP803 and the mixed culture significantly increased the ALA content by 3.7-4.2 times (128, 90 and 131 μM, respectively) compared to their controls. ALA production cost could be reduced approximately 31 times with WV on the basis of the amount of levulinic acid used. Effluent containing ALA for using in agriculture could be achieved by treating the RSW with the selected ALA producer R. palustris strains under the optimized condition with a little WV additive.\")\n",
    "docs.append(\"Depressive patients often experience difficulty in performing exercise due to physical and psychological barriers. We examined the effects of 5-aminolevulinic acid (ALA) with sodium ferrous citrate (SFC) supplementation during home-based walking training in middle-aged depressive women. Nine outpatients [53 ± 8 (SD) yr] with major depressive disorder participated in the pilot study with randomized, placebo-controlled, double-blind crossover design. They underwent two trials for 7 days, each performing interval walking training (IWT) with ALA + SFC (ALA + SFC) or placebo supplement intake (PLC) intermittently with >a 10-day washout period. For the first 6 days of each trial, exercise intensity for IWT was measured by accelerometry. Before and after each trial, subjects underwent a graded cycling test, and lactate concentration in plasma ([Lac-]p), oxygen consumption rate ([Formula: see text]), and carbon dioxide production rate ([Formula: see text]) were measured with depression severity by the Montgomery-Åsberg Depression Rating Scale (MADRS). We found that the increases in [Lac-]p, [Formula: see text] and [Formula: see text] during the test were attenuated only in ALA + SFC ([before vs. after] × workload; all, P < 0.01), accompanied by increased training days, impulse, and time at fast walking during IWT (all, P < 0.05) with decreased MADRS-score (P = 0.001). Thus, ALA + SFC supplementation increased IWT achievement to improve depressive symptoms in middle-aged women.\")\n",
    "docs.append(\"OBJECTIVE: To study the curative effect of red-light 5-Aminolevulinic photodynamic therapy(ALA-PDT) to port wine stains(PWS) on comb animal model.  METHODS: 160 male cocks were randomly divided into 16 groups. The ALA only group was given ALA only topical or systemic application. Light only groups were only given 630 nm red light irradiation with different light density. ALA-PDT groups were given red light after the application of topical or systemic ALA. PDL group was given PDL irradiation. The distribution of fluorescence in tissue after topical or systemic application of ALA was detected. The morphological changes, the pathological changes and the capillary reduction rate of the comb were observed after treatment for 0, 1, 3, 5, 7, 14 days.  RESULTS: The PpIX fluorescence generated after topical and systemic application of ALA. In the topical ALA-PDT group at low light density 80 J/cm2, the morphology and the histopathology had no obvious change. While under 160 J/cm2 and 200 J/cm2 light density, severe erosion and thick scab appeared. The histopathology showed epidermal necrosis and loss. The immunohistochemistry showed that there was no significant change in the number of capillaries under different light density (P > 0.05). In the systemic ALA-PDT group under low light density 80 J/cm2, only partial erosion and thin scab was observed on the treatment side. With the increase of light density, thick charred crust and even scar was observed. The histopathology showed that there were different degrees of damage to dermal and epidermal tissues. And the immunohistochemistry showed the capillary reduced significantly in the treatment side (P < 0.01). In control group, the comb is ruddy and plump.  CONCLUSION: These results suggest that either topical or systemic red-light ALA-PDT is not suitable treatment methods for PWS.  Copyright © 2018 Elsevier B.V. All rights reserved.  KEYWORDS: 5-aminolevulinic acid; comb animal model; photodynamic therapy; port wine stains; red light\")\n",
    "docs.append(\"BACKGROUND: Patients suffering from malignant gliomas have a poor prognosis. For the surgical treatment of these tumors, 5-aminolevulinic acid (5-ALA) has become a new standard.  AIMS: This review intends to provide an overview over current status, significance, limitations, and future perspectives of 5-ALA based fluorescence guided surgery and photodynamic therapy for brain tumor patients.  MATERIALS AND METHODS: From peer reviewed publications on the many aspects connected with this topic, those with potential clinical relevance were selected and put in the context of our own experience.  RESULTS AND DISCUSSION: The high tumor selectivity of accumulation of fluorescent protoporphyrin IX (PpIX) after systemic administration of 5-ALA enables intra-operative fluorescence guidance, which is unimpaired by brainshift and does not require expensive equipment. The neurosurgical aim of complete resection of enhancing tumor can now more easily be achieved, which improves prognosis in these patients. Nevertheless, despite better surgery tumors will inevitably recur. In order to further prolong survival, the phototoxic properties of PpIX are presently being exploited in clinical trials of post-operative or interstitial photodynamic therapy (PDT).  CONCLUSION: 5-ALA based fluorescence guidance and PDT offer an intriguing new option for the management of malignant gliomas. Lasers Surg. Med. 9999:1-21, 2018. © 2018 Wiley Periodicals, Inc.  © 2018 The Authors. Lasers in Surgery and Medicine Published by Wiley Periodicals, Inc.  KEYWORDS: aminolevulinic acid (5-ALA); fluorescence guided surgery; malignant glioma; photodynamic therapy (PDT); protoporphyrin IX (PpIX); stereotactic biopsy\")\n",
    "docs.append(\"To evaluate the feasibility of photodynamic diagnosis using 5-aminolevulinic acid (PDD-ALA) for detection of prostate cancer (PCa) cells in urine samples after prostate massage in patients who were suspected to have PCa. One hundred and eighty-nine patients with abnormal digital rectal examination and/or an elevated prostate-specific antigen (PSA) level who underwent initial prostate biopsy were recruited. After prostate massage, the first 60 mL of voided urine was collected. For PDD-ALA, 50 mL was used. The rest of collected urine was used for polymerase chain reaction (PCR) of PSA and glyceraldehyde 3-phosphate dehydrogenase (GAPDH). After incubation for 2 h, the intensity was measured at 635 nm under a 405-nm wavelength excitation. The results of PDD-ALA were compared with those of an initial transrectal ultrasound (TRUS)-guided prostate biopsy. Overall, 126/189 (67%) samples that showed bands of both PSA and GAPDH on PCR in urine samples were analyzed. The area under the curve, sensitivity, and specificity of PDD-ALA were 0.74, 77, and 67%, respectively. The value of PDD-ALA was significantly higher in patients with Gleason scores of 6 (p = 0.03), 7 (p = 0.005), and 8-10 (p = 0.0002) than in those with negative biopsy results. In the multivariate analysis, high PSA density, abnormal findings on TRUS, and a high value of PDD-ALA were significant markers for prediction of positive biopsy results. PDD-ALA was useful to predict positive biopsy results in patients who underwent initial prostate biopsy with suspected PCa. This PCa-detection method has potential for clinical use.\")\n",
    "docs.append(\"Protoporphyrin IX (PpIX) is an endogenous fluorescent molecule that selectively accumulates in cancer cells treated with the heme precursor 5-aminolevulinic acid (5-ALA). This cancer-specific accumulation of PpIX is used to distinguish tumor from normal tissues in fluorescence-guided surgery (FGS) and to destroy cancer cells by photodynamic therapy (PDT). In this study, we demonstrate that oncogenic Ras/mitogen-activated protein kinase kinase (MEK) pathway can modulate PpIX accumulation in cancer cells. Methods: To identify Ras downstream elements involved in PpIX accumulation, chemical inhibitors were used. To demonstrate the increase of PpIX accumulation by MEK inhibition, different human normal and cancer cell lines, BALB/c mice bearing mammary 4T1 tumors and athymic nude mice bearing human tumors were used. To identify the mechanisms of PpIX regulation by MEK, biochemical and molecular biological experiments were conducted. Results: Inhibition of one of the Ras downstream elements, MEK, promoted PpIX accumulation in cancer cells treated with 5-ALA, while inhibitors against other Ras downstream elements did not. Increased PpIX accumulation with MEK inhibition was observed in different types of human cancer cell lines, but not in normal cell lines. We identified two independent cellular mechanisms that underlie this effect in cancer cells. MEK inhibition reduced PpIX efflux from cancer cells by decreasing the expression level of ATP binding cassette subfamily B member 1 (ABCB1) transporter. In addition, the activity of ferrochelatase (FECH), the enzyme responsible for converting PpIX to heme, was reduced by MEK inhibition. Finally, we found that in vivo treatment with MEK inhibitors increased PpIX accumulation (2.2- to 2.4-fold) within mammary 4T1 tumors in BALB/c mice injected with 5-ALA without any change in normal organs. Similar results were also observed in a human tumor xenograft model. Conclusion: Our study demonstrates that inhibition of oncogenic Ras/MEK significantly enhances PpIX accumulation in vitro and in vivo in a cancer-specific manner. Thus, suppressing the Ras/MEK pathway may be a viable strategy to selectively intensify PpIX fluorescence in cancer cells and improve its clinical applications in FGS.\")\n",
    "docs.append(\"Hidradenitis suppurativa/acne inversa (HS/AI) is a type of chronic suppurative inflammatory reaction of the hair follicles characterized by recurrent dermal abscesses, sinus tracts and scars. So far, there has not been any prospective study proving the efficacy and safety of photodynamic therapy for the disease. In this report, one case of HS/AI achieved resolution of skin lesions, ulcer healing and disappearance of symptoms after nine treatments with 5-aminolevulinic acid photodynamic therapy (ALA-PDT).\")\n",
    "\n",
    "# \"diet\" is searched in PubMed\n",
    "docs.append(\"Hepatocellular carcinoma (HCC) is the third most lethal cancer worldwide. Despite progress in identifying risk factors, the incidence of HCC is increasing. Moreover, therapeutic options are limited and survival is poor. Therefore, alternative and innovative therapeutic strategies are urgently required. R-Tf-D-LP4, a cell-penetrating peptide derived from the mitochondrial multifunctional protein the voltage-dependent anion channel (VDAC1), is identified here as a highly effective liver cancer treatment. Recently, we demonstrated that R-Tf-D-LP4 induced apoptosis and inhibited tumor growth in mouse models. We now demonstrate that R-Tf-D-LP4 induced apoptosis in cancer liver-derived cell lines and inhibited tumor growth in three different liver cancer mouse models. These included diethylnitrosamine (DEN)-induced HCC, metabolically high-fat diet-induced HCC, and using a subcutaneous HepG2 cell xenograft model. Intravenous injection of the peptide into tumor-carrying DEN-treated mice resulted in dose-dependent inhibition of tumor growth up to complete tumor elimination. TUNEL staining of liver sections demonstrated peptide-induced apoptosis. Hematoxylin/eosin and Sirius red staining of liver sections showed decreased fibrotic formation. Immunohistochemical staining demonstrated reduced numbers of α-SMA-expressing cells in R-Tf-D-LP4-treated mouse livers. Additionally, macrophage presence in liver tissue was reduced in R-Tf-D-LP4-treated mice. Liver sections from DEN-treated mice showed steatohepatic pathology, reflected as fatty liver, inflammation, ballooning degeneration, and fibrosis; all were eliminated upon peptide treatment. Peptide treatment also inhibited tumor development in a nonalcoholic steatohepatitis-hepatocellular carcinoma mouse model induced by HFD. In HepG2 subcutaneous tumor xenografts, R-Tf-D-LP4 inhibited tumor growth.\")\n"
   ]
  },
  {
   "cell_type": "markdown",
   "metadata": {
    "colab_type": "text",
    "id": "JxrXrpnpXRfv"
   },
   "source": [
    "## NLTKのトークナイザを使ってみる"
   ]
  },
  {
   "cell_type": "code",
   "execution_count": 4,
   "metadata": {
    "colab": {
     "autoexec": {
      "startup": false,
      "wait_interval": 0
     },
     "base_uri": "https://localhost:8080/",
     "height": 105
    },
    "colab_type": "code",
    "executionInfo": {
     "elapsed": 2314,
     "status": "ok",
     "timestamp": 1527220598394,
     "user": {
      "displayName": "大下健史",
      "photoUrl": "https://lh3.googleusercontent.com/a/default-user=s128",
      "userId": "114806679545096700120"
     },
     "user_tz": -540
    },
    "id": "YkCPGvBIxNAs",
    "outputId": "badb4220-81c0-4fc5-8efd-2970c54bbfc8"
   },
   "outputs": [
    {
     "name": "stdout",
     "output_type": "stream",
     "text": [
      "[nltk_data] Downloading package punkt to\n",
      "[nltk_data]     /Users/sato.tatsuya/nltk_data...\n",
      "[nltk_data]   Unzipping tokenizers/punkt.zip.\n",
      "[nltk_data] Downloading package stopwords to\n",
      "[nltk_data]     /Users/sato.tatsuya/nltk_data...\n",
      "[nltk_data]   Unzipping corpora/stopwords.zip.\n"
     ]
    },
    {
     "data": {
      "text/plain": [
       "True"
      ]
     },
     "execution_count": 4,
     "metadata": {},
     "output_type": "execute_result"
    }
   ],
   "source": [
    "import nltk\n",
    "from nltk.tokenize import sent_tokenize\n",
    "from nltk.tokenize import word_tokenize\n",
    "from nltk.corpus import stopwords\n",
    "nltk.download('punkt')\n",
    "nltk.download('stopwords')"
   ]
  },
  {
   "cell_type": "code",
   "execution_count": 5,
   "metadata": {
    "colab": {
     "autoexec": {
      "startup": false,
      "wait_interval": 0
     },
     "base_uri": "https://localhost:8080/",
     "height": 52
    },
    "colab_type": "code",
    "executionInfo": {
     "elapsed": 562,
     "status": "ok",
     "timestamp": 1527220601277,
     "user": {
      "displayName": "大下健史",
      "photoUrl": "https://lh3.googleusercontent.com/a/default-user=s128",
      "userId": "114806679545096700120"
     },
     "user_tz": -540
    },
    "id": "advMzk84X_t-",
    "outputId": "fb4218d1-7b77-439c-a91a-09099869e94b"
   },
   "outputs": [
    {
     "name": "stdout",
     "output_type": "stream",
     "text": [
      "211\n",
      "211\n"
     ]
    }
   ],
   "source": [
    "import string\n",
    "punc = set(list(string.punctuation))\n",
    "stop_words = set(stopwords.words('english'))\n",
    "print(len(stop_words.union(punc)))\n",
    "stop_words = stop_words.union(punc)\n",
    "print(len(stop_words))\n",
    "#list(stop_words)[:5]"
   ]
  },
  {
   "cell_type": "code",
   "execution_count": 7,
   "metadata": {
    "colab": {
     "autoexec": {
      "startup": false,
      "wait_interval": 0
     },
     "base_uri": "https://localhost:8080/",
     "height": 34
    },
    "colab_type": "code",
    "executionInfo": {
     "elapsed": 556,
     "status": "ok",
     "timestamp": 1527220618541,
     "user": {
      "displayName": "大下健史",
      "photoUrl": "https://lh3.googleusercontent.com/a/default-user=s128",
      "userId": "114806679545096700120"
     },
     "user_tz": -540
    },
    "id": "_tuSopYzGYRl",
    "outputId": "0fd5f809-2224-48c4-947e-13f41caa755f"
   },
   "outputs": [
    {
     "data": {
      "text/plain": [
       "['This',\n",
       " 'study',\n",
       " 'aimed',\n",
       " 'to',\n",
       " 'produce',\n",
       " 'inexpensive',\n",
       " '5-aminolevulinic',\n",
       " 'acid',\n",
       " '(',\n",
       " 'ALA',\n",
       " ')',\n",
       " 'in',\n",
       " 'a',\n",
       " 'non-sterile',\n",
       " 'latex',\n",
       " 'rubber',\n",
       " 'sheet',\n",
       " 'wastewater',\n",
       " '(',\n",
       " 'RSW',\n",
       " ')',\n",
       " 'by',\n",
       " 'Rhodopseudomonas',\n",
       " 'palustris',\n",
       " 'TN114',\n",
       " 'and',\n",
       " 'PP803',\n",
       " 'for',\n",
       " 'the',\n",
       " 'possibility',\n",
       " 'to',\n",
       " 'use',\n",
       " 'in',\n",
       " 'agricultural',\n",
       " 'purposes',\n",
       " 'by',\n",
       " 'investigating',\n",
       " 'the',\n",
       " 'optimum',\n",
       " 'conditions',\n",
       " ',',\n",
       " 'and',\n",
       " 'applying',\n",
       " 'of',\n",
       " 'wood',\n",
       " 'vinegar',\n",
       " '(',\n",
       " 'WV',\n",
       " ')',\n",
       " 'as',\n",
       " 'an',\n",
       " 'economical',\n",
       " 'source',\n",
       " 'of',\n",
       " 'levulinic',\n",
       " 'acid',\n",
       " 'to',\n",
       " 'enhance',\n",
       " 'ALA',\n",
       " 'content',\n",
       " '.',\n",
       " 'The',\n",
       " 'Box-Behnken',\n",
       " 'Design',\n",
       " 'experiment',\n",
       " 'was',\n",
       " 'conducted',\n",
       " 'under',\n",
       " 'microaerobic-light',\n",
       " 'conditions',\n",
       " 'for',\n",
       " '96',\n",
       " 'h',\n",
       " 'with',\n",
       " 'TN114',\n",
       " ',',\n",
       " 'PP803',\n",
       " 'and',\n",
       " 'their',\n",
       " 'mixed',\n",
       " 'culture',\n",
       " '(',\n",
       " '1:1',\n",
       " ')',\n",
       " 'by',\n",
       " 'varying',\n",
       " 'initial',\n",
       " 'pH',\n",
       " ',',\n",
       " 'inoculum',\n",
       " 'size',\n",
       " '(',\n",
       " '%',\n",
       " 'v/v',\n",
       " ')',\n",
       " 'and',\n",
       " 'initial',\n",
       " 'chemical',\n",
       " 'oxygen',\n",
       " 'demand',\n",
       " '(',\n",
       " 'COD',\n",
       " ',',\n",
       " 'mg/L',\n",
       " ')',\n",
       " '.',\n",
       " 'Results',\n",
       " 'showed',\n",
       " 'that',\n",
       " 'the',\n",
       " 'optimal',\n",
       " 'condition',\n",
       " '(',\n",
       " 'pH',\n",
       " ',',\n",
       " '%',\n",
       " 'inoculum',\n",
       " 'size',\n",
       " ',',\n",
       " 'COD',\n",
       " ')',\n",
       " 'of',\n",
       " 'each',\n",
       " 'set',\n",
       " 'to',\n",
       " 'produce',\n",
       " 'extracellular',\n",
       " 'ALA',\n",
       " 'was',\n",
       " 'found',\n",
       " 'at',\n",
       " '7.50',\n",
       " ',',\n",
       " '6.00',\n",
       " ',',\n",
       " '2000',\n",
       " 'for',\n",
       " 'TN114',\n",
       " ';',\n",
       " '7.50',\n",
       " ',',\n",
       " '7.00',\n",
       " ',',\n",
       " '3000',\n",
       " 'for',\n",
       " 'PP803',\n",
       " ';',\n",
       " 'and',\n",
       " '7.50',\n",
       " ',',\n",
       " '6.00',\n",
       " ',',\n",
       " '4000',\n",
       " 'for',\n",
       " 'a',\n",
       " 'mixed',\n",
       " 'culture',\n",
       " ';',\n",
       " 'and',\n",
       " 'each',\n",
       " 'set',\n",
       " 'achieved',\n",
       " 'COD',\n",
       " 'reduction',\n",
       " 'as',\n",
       " 'high',\n",
       " 'as',\n",
       " '63',\n",
       " '%',\n",
       " ',',\n",
       " '71',\n",
       " '%',\n",
       " 'and',\n",
       " '75',\n",
       " '%',\n",
       " ',',\n",
       " 'respectively',\n",
       " '.',\n",
       " 'Addition',\n",
       " 'of',\n",
       " 'the',\n",
       " 'optimal',\n",
       " 'concentration',\n",
       " 'of',\n",
       " 'WV',\n",
       " 'at',\n",
       " 'mid',\n",
       " 'log',\n",
       " 'phase',\n",
       " 'at',\n",
       " '0.63',\n",
       " '%',\n",
       " 'for',\n",
       " 'TN114',\n",
       " ',',\n",
       " 'and',\n",
       " '1.25',\n",
       " '%',\n",
       " 'for',\n",
       " 'PP803',\n",
       " 'and',\n",
       " 'the',\n",
       " 'mixed',\n",
       " 'culture',\n",
       " 'significantly',\n",
       " 'increased',\n",
       " 'the',\n",
       " 'ALA',\n",
       " 'content',\n",
       " 'by',\n",
       " '3.7-4.2',\n",
       " 'times',\n",
       " '(',\n",
       " '128',\n",
       " ',',\n",
       " '90',\n",
       " 'and',\n",
       " '131',\n",
       " 'μM',\n",
       " ',',\n",
       " 'respectively',\n",
       " ')',\n",
       " 'compared',\n",
       " 'to',\n",
       " 'their',\n",
       " 'controls',\n",
       " '.',\n",
       " 'ALA',\n",
       " 'production',\n",
       " 'cost',\n",
       " 'could',\n",
       " 'be',\n",
       " 'reduced',\n",
       " 'approximately',\n",
       " '31',\n",
       " 'times',\n",
       " 'with',\n",
       " 'WV',\n",
       " 'on',\n",
       " 'the',\n",
       " 'basis',\n",
       " 'of',\n",
       " 'the',\n",
       " 'amount',\n",
       " 'of',\n",
       " 'levulinic',\n",
       " 'acid',\n",
       " 'used',\n",
       " '.',\n",
       " 'Effluent',\n",
       " 'containing',\n",
       " 'ALA',\n",
       " 'for',\n",
       " 'using',\n",
       " 'in',\n",
       " 'agriculture',\n",
       " 'could',\n",
       " 'be',\n",
       " 'achieved',\n",
       " 'by',\n",
       " 'treating',\n",
       " 'the',\n",
       " 'RSW',\n",
       " 'with',\n",
       " 'the',\n",
       " 'selected',\n",
       " 'ALA',\n",
       " 'producer',\n",
       " 'R.',\n",
       " 'palustris',\n",
       " 'strains',\n",
       " 'under',\n",
       " 'the',\n",
       " 'optimized',\n",
       " 'condition',\n",
       " 'with',\n",
       " 'a',\n",
       " 'little',\n",
       " 'WV',\n",
       " 'additive',\n",
       " '.']"
      ]
     },
     "execution_count": 7,
     "metadata": {},
     "output_type": "execute_result"
    }
   ],
   "source": [
    "sentences = sent_tokenize(docs[0])\n",
    "words = word_tokenize(docs[0])\n",
    "words"
   ]
  },
  {
   "cell_type": "markdown",
   "metadata": {
    "colab_type": "text",
    "id": "dLdQ8z2zXKFZ"
   },
   "source": [
    "## doc2vec を使ってみる"
   ]
  },
  {
   "cell_type": "code",
   "execution_count": 9,
   "metadata": {
    "colab": {
     "autoexec": {
      "startup": false,
      "wait_interval": 0
     }
    },
    "colab_type": "code",
    "id": "dd8G1q4Tuagh"
   },
   "outputs": [],
   "source": [
    "import gensim\n",
    "from gensim.models.doc2vec import Doc2Vec\n",
    "from gensim.models.doc2vec import TaggedDocument\n"
   ]
  },
  {
   "cell_type": "code",
   "execution_count": 30,
   "metadata": {
    "colab": {
     "autoexec": {
      "startup": false,
      "wait_interval": 0
     },
     "base_uri": "https://localhost:8080/",
     "height": 178
    },
    "colab_type": "code",
    "executionInfo": {
     "elapsed": 574,
     "status": "ok",
     "timestamp": 1527220625570,
     "user": {
      "displayName": "大下健史",
      "photoUrl": "https://lh3.googleusercontent.com/a/default-user=s128",
      "userId": "114806679545096700120"
     },
     "user_tz": -540
    },
    "id": "UOaRQz3vHMCY",
    "outputId": "9c1241dc-0bbd-48f7-ef20-92f28a91d302"
   },
   "outputs": [
    {
     "data": {
      "text/plain": [
       "[TaggedDocument(words=['This', 'study', 'aimed', 'produce', 'inexpensive', '5-aminolevulinic', 'acid', 'ALA', 'non-sterile', 'latex', 'rubber', 'sheet', 'wastewater', 'RSW', 'Rhodopseudomonas', 'palustris', 'TN114', 'PP803', 'possibility', 'use', 'agricultural', 'purposes', 'investigating', 'optimum', 'conditions', 'applying', 'wood', 'vinegar', 'WV', 'economical', 'source', 'levulinic', 'acid', 'enhance', 'ALA', 'content', 'The', 'Box-Behnken', 'Design', 'experiment', 'conducted', 'microaerobic-light', 'conditions', '96', 'h', 'TN114', 'PP803', 'mixed', 'culture', '1:1', 'varying', 'initial', 'pH', 'inoculum', 'size', 'v/v', 'initial', 'chemical', 'oxygen', 'demand', 'COD', 'mg/L', 'Results', 'showed', 'optimal', 'condition', 'pH', 'inoculum', 'size', 'COD', 'set', 'produce', 'extracellular', 'ALA', 'found', '7.50', '6.00', '2000', 'TN114', '7.50', '7.00', '3000', 'PP803', '7.50', '6.00', '4000', 'mixed', 'culture', 'set', 'achieved', 'COD', 'reduction', 'high', '63', '71', '75', 'respectively', 'Addition', 'optimal', 'concentration', 'WV', 'mid', 'log', 'phase', '0.63', 'TN114', '1.25', 'PP803', 'mixed', 'culture', 'significantly', 'increased', 'ALA', 'content', '3.7-4.2', 'times', '128', '90', '131', 'μM', 'respectively', 'compared', 'controls', 'ALA', 'production', 'cost', 'could', 'reduced', 'approximately', '31', 'times', 'WV', 'basis', 'amount', 'levulinic', 'acid', 'used', 'Effluent', 'containing', 'ALA', 'using', 'agriculture', 'could', 'achieved', 'treating', 'RSW', 'selected', 'ALA', 'producer', 'R.', 'palustris', 'strains', 'optimized', 'condition', 'little', 'WV', 'additive'], tags=['d00']),\n",
       " TaggedDocument(words=['Depressive', 'patients', 'often', 'experience', 'difficulty', 'performing', 'exercise', 'due', 'physical', 'psychological', 'barriers', 'We', 'examined', 'effects', '5-aminolevulinic', 'acid', 'ALA', 'sodium', 'ferrous', 'citrate', 'SFC', 'supplementation', 'home-based', 'walking', 'training', 'middle-aged', 'depressive', 'women', 'Nine', 'outpatients', '53', '±', '8', 'SD', 'yr', 'major', 'depressive', 'disorder', 'participated', 'pilot', 'study', 'randomized', 'placebo-controlled', 'double-blind', 'crossover', 'design', 'They', 'underwent', 'two', 'trials', '7', 'days', 'performing', 'interval', 'walking', 'training', 'IWT', 'ALA', 'SFC', 'ALA', 'SFC', 'placebo', 'supplement', 'intake', 'PLC', 'intermittently', '10-day', 'washout', 'period', 'For', 'first', '6', 'days', 'trial', 'exercise', 'intensity', 'IWT', 'measured', 'accelerometry', 'Before', 'trial', 'subjects', 'underwent', 'graded', 'cycling', 'test', 'lactate', 'concentration', 'plasma', 'Lac-', 'p', 'oxygen', 'consumption', 'rate', 'Formula', 'see', 'text', 'carbon', 'dioxide', 'production', 'rate', 'Formula', 'see', 'text', 'measured', 'depression', 'severity', 'Montgomery-Åsberg', 'Depression', 'Rating', 'Scale', 'MADRS', 'We', 'found', 'increases', 'Lac-', 'p', 'Formula', 'see', 'text', 'Formula', 'see', 'text', 'test', 'attenuated', 'ALA', 'SFC', 'vs.', '×', 'workload', 'P', '0.01', 'accompanied', 'increased', 'training', 'days', 'impulse', 'time', 'fast', 'walking', 'IWT', 'P', '0.05', 'decreased', 'MADRS-score', 'P', '0.001', 'Thus', 'ALA', 'SFC', 'supplementation', 'increased', 'IWT', 'achievement', 'improve', 'depressive', 'symptoms', 'middle-aged', 'women'], tags=['d01']),\n",
       " TaggedDocument(words=['OBJECTIVE', 'To', 'study', 'curative', 'effect', 'red-light', '5-Aminolevulinic', 'photodynamic', 'therapy', 'ALA-PDT', 'port', 'wine', 'stains', 'PWS', 'comb', 'animal', 'model', 'METHODS', '160', 'male', 'cocks', 'randomly', 'divided', '16', 'groups', 'The', 'ALA', 'group', 'given', 'ALA', 'topical', 'systemic', 'application', 'Light', 'groups', 'given', '630', 'nm', 'red', 'light', 'irradiation', 'different', 'light', 'density', 'ALA-PDT', 'groups', 'given', 'red', 'light', 'application', 'topical', 'systemic', 'ALA.', 'PDL', 'group', 'given', 'PDL', 'irradiation', 'The', 'distribution', 'fluorescence', 'tissue', 'topical', 'systemic', 'application', 'ALA', 'detected', 'The', 'morphological', 'changes', 'pathological', 'changes', 'capillary', 'reduction', 'rate', 'comb', 'observed', 'treatment', '0', '1', '3', '5', '7', '14', 'days', 'RESULTS', 'The', 'PpIX', 'fluorescence', 'generated', 'topical', 'systemic', 'application', 'ALA', 'In', 'topical', 'ALA-PDT', 'group', 'low', 'light', 'density', '80', 'J/cm2', 'morphology', 'histopathology', 'obvious', 'change', 'While', '160', 'J/cm2', '200', 'J/cm2', 'light', 'density', 'severe', 'erosion', 'thick', 'scab', 'appeared', 'The', 'histopathology', 'showed', 'epidermal', 'necrosis', 'loss', 'The', 'immunohistochemistry', 'showed', 'significant', 'change', 'number', 'capillaries', 'different', 'light', 'density', 'P', '0.05', 'In', 'systemic', 'ALA-PDT', 'group', 'low', 'light', 'density', '80', 'J/cm2', 'partial', 'erosion', 'thin', 'scab', 'observed', 'treatment', 'side', 'With', 'increase', 'light', 'density', 'thick', 'charred', 'crust', 'even', 'scar', 'observed', 'The', 'histopathology', 'showed', 'different', 'degrees', 'damage', 'dermal', 'epidermal', 'tissues', 'And', 'immunohistochemistry', 'showed', 'capillary', 'reduced', 'significantly', 'treatment', 'side', 'P', '0.01', 'In', 'control', 'group', 'comb', 'ruddy', 'plump', 'CONCLUSION', 'These', 'results', 'suggest', 'either', 'topical', 'systemic', 'red-light', 'ALA-PDT', 'suitable', 'treatment', 'methods', 'PWS', 'Copyright', '©', '2018', 'Elsevier', 'B.V.', 'All', 'rights', 'reserved', 'KEYWORDS', '5-aminolevulinic', 'acid', 'comb', 'animal', 'model', 'photodynamic', 'therapy', 'port', 'wine', 'stains', 'red', 'light'], tags=['d02']),\n",
       " TaggedDocument(words=['BACKGROUND', 'Patients', 'suffering', 'malignant', 'gliomas', 'poor', 'prognosis', 'For', 'surgical', 'treatment', 'tumors', '5-aminolevulinic', 'acid', '5-ALA', 'become', 'new', 'standard', 'AIMS', 'This', 'review', 'intends', 'provide', 'overview', 'current', 'status', 'significance', 'limitations', 'future', 'perspectives', '5-ALA', 'based', 'fluorescence', 'guided', 'surgery', 'photodynamic', 'therapy', 'brain', 'tumor', 'patients', 'MATERIALS', 'AND', 'METHODS', 'From', 'peer', 'reviewed', 'publications', 'many', 'aspects', 'connected', 'topic', 'potential', 'clinical', 'relevance', 'selected', 'put', 'context', 'experience', 'RESULTS', 'AND', 'DISCUSSION', 'The', 'high', 'tumor', 'selectivity', 'accumulation', 'fluorescent', 'protoporphyrin', 'IX', 'PpIX', 'systemic', 'administration', '5-ALA', 'enables', 'intra-operative', 'fluorescence', 'guidance', 'unimpaired', 'brainshift', 'require', 'expensive', 'equipment', 'The', 'neurosurgical', 'aim', 'complete', 'resection', 'enhancing', 'tumor', 'easily', 'achieved', 'improves', 'prognosis', 'patients', 'Nevertheless', 'despite', 'better', 'surgery', 'tumors', 'inevitably', 'recur', 'In', 'order', 'prolong', 'survival', 'phototoxic', 'properties', 'PpIX', 'presently', 'exploited', 'clinical', 'trials', 'post-operative', 'interstitial', 'photodynamic', 'therapy', 'PDT', 'CONCLUSION', '5-ALA', 'based', 'fluorescence', 'guidance', 'PDT', 'offer', 'intriguing', 'new', 'option', 'management', 'malignant', 'gliomas', 'Lasers', 'Surg', 'Med', '9999:1-21', '2018', '©', '2018', 'Wiley', 'Periodicals', 'Inc.', '©', '2018', 'The', 'Authors', 'Lasers', 'Surgery', 'Medicine', 'Published', 'Wiley', 'Periodicals', 'Inc.', 'KEYWORDS', 'aminolevulinic', 'acid', '5-ALA', 'fluorescence', 'guided', 'surgery', 'malignant', 'glioma', 'photodynamic', 'therapy', 'PDT', 'protoporphyrin', 'IX', 'PpIX', 'stereotactic', 'biopsy'], tags=['d03']),\n",
       " TaggedDocument(words=['To', 'evaluate', 'feasibility', 'photodynamic', 'diagnosis', 'using', '5-aminolevulinic', 'acid', 'PDD-ALA', 'detection', 'prostate', 'cancer', 'PCa', 'cells', 'urine', 'samples', 'prostate', 'massage', 'patients', 'suspected', 'PCa', 'One', 'hundred', 'eighty-nine', 'patients', 'abnormal', 'digital', 'rectal', 'examination', 'and/or', 'elevated', 'prostate-specific', 'antigen', 'PSA', 'level', 'underwent', 'initial', 'prostate', 'biopsy', 'recruited', 'After', 'prostate', 'massage', 'first', '60', 'mL', 'voided', 'urine', 'collected', 'For', 'PDD-ALA', '50', 'mL', 'used', 'The', 'rest', 'collected', 'urine', 'used', 'polymerase', 'chain', 'reaction', 'PCR', 'PSA', 'glyceraldehyde', '3-phosphate', 'dehydrogenase', 'GAPDH', 'After', 'incubation', '2', 'h', 'intensity', 'measured', '635', 'nm', '405-nm', 'wavelength', 'excitation', 'The', 'results', 'PDD-ALA', 'compared', 'initial', 'transrectal', 'ultrasound', 'TRUS', '-guided', 'prostate', 'biopsy', 'Overall', '126/189', '67', 'samples', 'showed', 'bands', 'PSA', 'GAPDH', 'PCR', 'urine', 'samples', 'analyzed', 'The', 'area', 'curve', 'sensitivity', 'specificity', 'PDD-ALA', '0.74', '77', '67', 'respectively', 'The', 'value', 'PDD-ALA', 'significantly', 'higher', 'patients', 'Gleason', 'scores', '6', 'p', '0.03', '7', 'p', '0.005', '8-10', 'p', '0.0002', 'negative', 'biopsy', 'results', 'In', 'multivariate', 'analysis', 'high', 'PSA', 'density', 'abnormal', 'findings', 'TRUS', 'high', 'value', 'PDD-ALA', 'significant', 'markers', 'prediction', 'positive', 'biopsy', 'results', 'PDD-ALA', 'useful', 'predict', 'positive', 'biopsy', 'results', 'patients', 'underwent', 'initial', 'prostate', 'biopsy', 'suspected', 'PCa', 'This', 'PCa-detection', 'method', 'potential', 'clinical', 'use'], tags=['d04']),\n",
       " TaggedDocument(words=['Protoporphyrin', 'IX', 'PpIX', 'endogenous', 'fluorescent', 'molecule', 'selectively', 'accumulates', 'cancer', 'cells', 'treated', 'heme', 'precursor', '5-aminolevulinic', 'acid', '5-ALA', 'This', 'cancer-specific', 'accumulation', 'PpIX', 'used', 'distinguish', 'tumor', 'normal', 'tissues', 'fluorescence-guided', 'surgery', 'FGS', 'destroy', 'cancer', 'cells', 'photodynamic', 'therapy', 'PDT', 'In', 'study', 'demonstrate', 'oncogenic', 'Ras/mitogen-activated', 'protein', 'kinase', 'kinase', 'MEK', 'pathway', 'modulate', 'PpIX', 'accumulation', 'cancer', 'cells', 'Methods', 'To', 'identify', 'Ras', 'downstream', 'elements', 'involved', 'PpIX', 'accumulation', 'chemical', 'inhibitors', 'used', 'To', 'demonstrate', 'increase', 'PpIX', 'accumulation', 'MEK', 'inhibition', 'different', 'human', 'normal', 'cancer', 'cell', 'lines', 'BALB/c', 'mice', 'bearing', 'mammary', '4T1', 'tumors', 'athymic', 'nude', 'mice', 'bearing', 'human', 'tumors', 'used', 'To', 'identify', 'mechanisms', 'PpIX', 'regulation', 'MEK', 'biochemical', 'molecular', 'biological', 'experiments', 'conducted', 'Results', 'Inhibition', 'one', 'Ras', 'downstream', 'elements', 'MEK', 'promoted', 'PpIX', 'accumulation', 'cancer', 'cells', 'treated', '5-ALA', 'inhibitors', 'Ras', 'downstream', 'elements', 'Increased', 'PpIX', 'accumulation', 'MEK', 'inhibition', 'observed', 'different', 'types', 'human', 'cancer', 'cell', 'lines', 'normal', 'cell', 'lines', 'We', 'identified', 'two', 'independent', 'cellular', 'mechanisms', 'underlie', 'effect', 'cancer', 'cells', 'MEK', 'inhibition', 'reduced', 'PpIX', 'efflux', 'cancer', 'cells', 'decreasing', 'expression', 'level', 'ATP', 'binding', 'cassette', 'subfamily', 'B', 'member', '1', 'ABCB1', 'transporter', 'In', 'addition', 'activity', 'ferrochelatase', 'FECH', 'enzyme', 'responsible', 'converting', 'PpIX', 'heme', 'reduced', 'MEK', 'inhibition', 'Finally', 'found', 'vivo', 'treatment', 'MEK', 'inhibitors', 'increased', 'PpIX', 'accumulation', '2.2-', '2.4-fold', 'within', 'mammary', '4T1', 'tumors', 'BALB/c', 'mice', 'injected', '5-ALA', 'without', 'change', 'normal', 'organs', 'Similar', 'results', 'also', 'observed', 'human', 'tumor', 'xenograft', 'model', 'Conclusion', 'Our', 'study', 'demonstrates', 'inhibition', 'oncogenic', 'Ras/MEK', 'significantly', 'enhances', 'PpIX', 'accumulation', 'vitro', 'vivo', 'cancer-specific', 'manner', 'Thus', 'suppressing', 'Ras/MEK', 'pathway', 'may', 'viable', 'strategy', 'selectively', 'intensify', 'PpIX', 'fluorescence', 'cancer', 'cells', 'improve', 'clinical', 'applications', 'FGS'], tags=['d05']),\n",
       " TaggedDocument(words=['Hidradenitis', 'suppurativa/acne', 'inversa', 'HS/AI', 'type', 'chronic', 'suppurative', 'inflammatory', 'reaction', 'hair', 'follicles', 'characterized', 'recurrent', 'dermal', 'abscesses', 'sinus', 'tracts', 'scars', 'So', 'far', 'prospective', 'study', 'proving', 'efficacy', 'safety', 'photodynamic', 'therapy', 'disease', 'In', 'report', 'one', 'case', 'HS/AI', 'achieved', 'resolution', 'skin', 'lesions', 'ulcer', 'healing', 'disappearance', 'symptoms', 'nine', 'treatments', '5-aminolevulinic', 'acid', 'photodynamic', 'therapy', 'ALA-PDT'], tags=['d06']),\n",
       " TaggedDocument(words=['Hepatocellular', 'carcinoma', 'HCC', 'third', 'lethal', 'cancer', 'worldwide', 'Despite', 'progress', 'identifying', 'risk', 'factors', 'incidence', 'HCC', 'increasing', 'Moreover', 'therapeutic', 'options', 'limited', 'survival', 'poor', 'Therefore', 'alternative', 'innovative', 'therapeutic', 'strategies', 'urgently', 'required', 'R-Tf-D-LP4', 'cell-penetrating', 'peptide', 'derived', 'mitochondrial', 'multifunctional', 'protein', 'voltage-dependent', 'anion', 'channel', 'VDAC1', 'identified', 'highly', 'effective', 'liver', 'cancer', 'treatment', 'Recently', 'demonstrated', 'R-Tf-D-LP4', 'induced', 'apoptosis', 'inhibited', 'tumor', 'growth', 'mouse', 'models', 'We', 'demonstrate', 'R-Tf-D-LP4', 'induced', 'apoptosis', 'cancer', 'liver-derived', 'cell', 'lines', 'inhibited', 'tumor', 'growth', 'three', 'different', 'liver', 'cancer', 'mouse', 'models', 'These', 'included', 'diethylnitrosamine', 'DEN', '-induced', 'HCC', 'metabolically', 'high-fat', 'diet-induced', 'HCC', 'using', 'subcutaneous', 'HepG2', 'cell', 'xenograft', 'model', 'Intravenous', 'injection', 'peptide', 'tumor-carrying', 'DEN-treated', 'mice', 'resulted', 'dose-dependent', 'inhibition', 'tumor', 'growth', 'complete', 'tumor', 'elimination', 'TUNEL', 'staining', 'liver', 'sections', 'demonstrated', 'peptide-induced', 'apoptosis', 'Hematoxylin/eosin', 'Sirius', 'red', 'staining', 'liver', 'sections', 'showed', 'decreased', 'fibrotic', 'formation', 'Immunohistochemical', 'staining', 'demonstrated', 'reduced', 'numbers', 'α-SMA-expressing', 'cells', 'R-Tf-D-LP4-treated', 'mouse', 'livers', 'Additionally', 'macrophage', 'presence', 'liver', 'tissue', 'reduced', 'R-Tf-D-LP4-treated', 'mice', 'Liver', 'sections', 'DEN-treated', 'mice', 'showed', 'steatohepatic', 'pathology', 'reflected', 'fatty', 'liver', 'inflammation', 'ballooning', 'degeneration', 'fibrosis', 'eliminated', 'upon', 'peptide', 'treatment', 'Peptide', 'treatment', 'also', 'inhibited', 'tumor', 'development', 'nonalcoholic', 'steatohepatitis-hepatocellular', 'carcinoma', 'mouse', 'model', 'induced', 'HFD', 'In', 'HepG2', 'subcutaneous', 'tumor', 'xenografts', 'R-Tf-D-LP4', 'inhibited', 'tumor', 'growth'], tags=['d07'])]"
      ]
     },
     "execution_count": 30,
     "metadata": {},
     "output_type": "execute_result"
    }
   ],
   "source": [
    "tagdocs = []\n",
    "for idx, txt in enumerate(docs):\n",
    "  #words = word_tokenize(txt)\n",
    "  words = [w for w in word_tokenize(txt) if w not in stop_words]\n",
    "  doc_id = \"d%02d\" % (idx)\n",
    "  tagdocs.append(TaggedDocument(words=words, tags=[doc_id]))\n",
    "tagdocs"
   ]
  },
  {
   "cell_type": "code",
   "execution_count": 31,
   "metadata": {
    "colab": {
     "autoexec": {
      "startup": false,
      "wait_interval": 0
     }
    },
    "colab_type": "code",
    "id": "PH2p-kHuGbQ_"
   },
   "outputs": [],
   "source": [
    "model = Doc2Vec(documents=tagdocs, vector_size=128, window=5, seed=123, min_count=1, dm=0, hs=1, negative=15, dbow_words=1)"
   ]
  },
  {
   "cell_type": "code",
   "execution_count": 32,
   "metadata": {
    "colab": {
     "autoexec": {
      "startup": false,
      "wait_interval": 0
     },
     "base_uri": "https://localhost:8080/",
     "height": 140
    },
    "colab_type": "code",
    "executionInfo": {
     "elapsed": 547,
     "status": "ok",
     "timestamp": 1527220634322,
     "user": {
      "displayName": "大下健史",
      "photoUrl": "https://lh3.googleusercontent.com/a/default-user=s128",
      "userId": "114806679545096700120"
     },
     "user_tz": -540
    },
    "id": "LIJ6am7PK4Nb",
    "outputId": "f6a747e7-2699-4c9a-c4b2-edc8f3803aa5"
   },
   "outputs": [
    {
     "data": {
      "text/plain": [
       "[('d06', 0.9984962940216064),\n",
       " ('d01', 0.9981933236122131),\n",
       " ('d00', 0.9973963499069214),\n",
       " ('d03', 0.9971559047698975),\n",
       " ('d07', 0.9965936541557312),\n",
       " ('d02', 0.996564507484436),\n",
       " ('d05', 0.9925324320793152)]"
      ]
     },
     "execution_count": 32,
     "metadata": {},
     "output_type": "execute_result"
    }
   ],
   "source": [
    "model.docvecs.most_similar(\"d04\")"
   ]
  },
  {
   "cell_type": "code",
   "execution_count": 33,
   "metadata": {
    "colab": {
     "autoexec": {
      "startup": false,
      "wait_interval": 0
     },
     "base_uri": "https://localhost:8080/",
     "height": 34
    },
    "colab_type": "code",
    "executionInfo": {
     "elapsed": 817,
     "status": "ok",
     "timestamp": 1527220646386,
     "user": {
      "displayName": "大下健史",
      "photoUrl": "https://lh3.googleusercontent.com/a/default-user=s128",
      "userId": "114806679545096700120"
     },
     "user_tz": -540
    },
    "id": "zqh_MqpIK8pG",
    "outputId": "b31cb8bb-ae02-4eed-f164-a1fb994e7f2d"
   },
   "outputs": [
    {
     "data": {
      "text/plain": [
       "(128,)"
      ]
     },
     "execution_count": 33,
     "metadata": {},
     "output_type": "execute_result"
    }
   ],
   "source": [
    "model.docvecs[\"d00\"].shape"
   ]
  },
  {
   "cell_type": "code",
   "execution_count": 34,
   "metadata": {
    "colab": {
     "autoexec": {
      "startup": false,
      "wait_interval": 0
     },
     "base_uri": "https://localhost:8080/",
     "height": 474
    },
    "colab_type": "code",
    "executionInfo": {
     "elapsed": 580,
     "status": "ok",
     "timestamp": 1526532835226,
     "user": {
      "displayName": "大下健史",
      "photoUrl": "https://lh3.googleusercontent.com/a/default-user=s128",
      "userId": "114806679545096700120"
     },
     "user_tz": -540
    },
    "id": "AVJqjHx3LHd3",
    "outputId": "3540aabd-2e32-46d0-8328-0f8315b1e960"
   },
   "outputs": [
    {
     "data": {
      "text/plain": [
       "array([-0.12003061,  0.18445583,  0.07462276,  0.006847  ,  0.0499008 ,\n",
       "       -0.10775075, -0.26138574,  0.08777224,  0.0708819 ,  0.3027707 ,\n",
       "       -0.23294953, -0.12861143,  0.16385606,  0.14683434, -0.06623042,\n",
       "        0.06366331,  0.05804099, -0.35518926,  0.1712981 ,  0.01125715,\n",
       "        0.09179451, -0.30536687, -0.01572692, -0.07496615,  0.19494767,\n",
       "        0.2002736 , -0.23961946,  0.03390005, -0.04180412, -0.16894147,\n",
       "       -0.10461483, -0.0468042 ,  0.14625135, -0.13818249,  0.07227509,\n",
       "        0.09490492, -0.23379886, -0.12793215,  0.15370813,  0.09363359,\n",
       "       -0.07278268, -0.18533331,  0.17677376, -0.12305257,  0.0338447 ,\n",
       "        0.28559923,  0.28736573,  0.0260345 , -0.21661331,  0.30863282,\n",
       "       -0.08083539, -0.2621768 , -0.16121913,  0.1807251 , -0.0706669 ,\n",
       "       -0.21680775, -0.05893498, -0.04101568, -0.34511107, -0.12090942,\n",
       "       -0.01526365, -0.08760747,  0.14734584, -0.00890529, -0.05393054,\n",
       "        0.08441573,  0.25951564,  0.08443393,  0.199078  , -0.13233727,\n",
       "       -0.02065363,  0.3624203 , -0.06579576,  0.18769689, -0.23304905,\n",
       "        0.1087532 , -0.22890696, -0.06926604,  0.14438334,  0.04781709,\n",
       "       -0.08930365,  0.06313945, -0.20066758,  0.04714917,  0.22267237,\n",
       "        0.01183411, -0.12217553, -0.08710223,  0.1158839 ,  0.15487397,\n",
       "        0.02531574, -0.03686145, -0.09551913, -0.19629365,  0.04478997,\n",
       "        0.21672095,  0.20895086, -0.03221604, -0.0822224 ,  0.22130354,\n",
       "        0.13297099,  0.1536687 ,  0.19846797,  0.04761114,  0.16248955,\n",
       "        0.16271153,  0.34906405,  0.03412684,  0.26902413, -0.14457703,\n",
       "       -0.01337608, -0.1849561 , -0.07701449,  0.02159238, -0.21312019,\n",
       "        0.04177653, -0.31075022, -0.15661135,  0.1284175 ,  0.19942343,\n",
       "       -0.26931348,  0.0915795 , -0.05684445,  0.4199254 ,  0.04880989,\n",
       "        0.04322816,  0.17697202, -0.17458993], dtype=float32)"
      ]
     },
     "execution_count": 34,
     "metadata": {},
     "output_type": "execute_result"
    }
   ],
   "source": [
    "model.wv[\"ALA\"]"
   ]
  },
  {
   "cell_type": "code",
   "execution_count": 35,
   "metadata": {},
   "outputs": [
    {
     "data": {
      "text/plain": [
       "(128,)"
      ]
     },
     "execution_count": 35,
     "metadata": {},
     "output_type": "execute_result"
    }
   ],
   "source": [
    "model.wv[\"ALA\"].shape"
   ]
  },
  {
   "cell_type": "code",
   "execution_count": 36,
   "metadata": {
    "colab": {
     "autoexec": {
      "startup": false,
      "wait_interval": 0
     },
     "base_uri": "https://localhost:8080/",
     "height": 193
    },
    "colab_type": "code",
    "executionInfo": {
     "elapsed": 502,
     "status": "ok",
     "timestamp": 1526532837502,
     "user": {
      "displayName": "大下健史",
      "photoUrl": "https://lh3.googleusercontent.com/a/default-user=s128",
      "userId": "114806679545096700120"
     },
     "user_tz": -540
    },
    "id": "UVkH-ckgP1Wv",
    "outputId": "2c25e916-80db-4dfd-df56-9afebb3bf901"
   },
   "outputs": [
    {
     "data": {
      "text/plain": [
       "[('tumor', 0.9998332858085632),\n",
       " ('SFC', 0.9998202919960022),\n",
       " ('lines', 0.9997988939285278),\n",
       " ('growth', 0.9997960329055786),\n",
       " ('topical', 0.9997925162315369),\n",
       " ('IWT', 0.999792218208313),\n",
       " ('systemic', 0.9997904300689697),\n",
       " ('We', 0.9997861981391907),\n",
       " ('different', 0.9997859001159668),\n",
       " ('patients', 0.9997763633728027)]"
      ]
     },
     "execution_count": 36,
     "metadata": {},
     "output_type": "execute_result"
    }
   ],
   "source": [
    "model.wv.similar_by_word(\"ALA\")"
   ]
  },
  {
   "cell_type": "code",
   "execution_count": 37,
   "metadata": {
    "colab": {
     "autoexec": {
      "startup": false,
      "wait_interval": 0
     }
    },
    "colab_type": "code",
    "id": "wxDmaJwTawn2"
   },
   "outputs": [
    {
     "ename": "TypeError",
     "evalue": "similar_by_vector() missing 1 required positional argument: 'vector'",
     "output_type": "error",
     "traceback": [
      "\u001b[0;31m---------------------------------------------------------------------------\u001b[0m",
      "\u001b[0;31mTypeError\u001b[0m                                 Traceback (most recent call last)",
      "\u001b[0;32m<ipython-input-37-db2ced0e8e5d>\u001b[0m in \u001b[0;36m<module>\u001b[0;34m()\u001b[0m\n\u001b[1;32m      1\u001b[0m \u001b[0mk\u001b[0m \u001b[0;34m=\u001b[0m \u001b[0mmodel\u001b[0m\u001b[0;34m.\u001b[0m\u001b[0mwv\u001b[0m\u001b[0;34m\u001b[0m\u001b[0m\n\u001b[0;32m----> 2\u001b[0;31m \u001b[0mmodel\u001b[0m\u001b[0;34m.\u001b[0m\u001b[0mwv\u001b[0m\u001b[0;34m.\u001b[0m\u001b[0msimilar_by_vector\u001b[0m\u001b[0;34m(\u001b[0m\u001b[0;34m)\u001b[0m\u001b[0;34m\u001b[0m\u001b[0m\n\u001b[0m",
      "\u001b[0;31mTypeError\u001b[0m: similar_by_vector() missing 1 required positional argument: 'vector'"
     ]
    }
   ],
   "source": [
    "k = model.wv\n",
    "model.wv.similar_by_vector()"
   ]
  },
  {
   "cell_type": "code",
   "execution_count": 38,
   "metadata": {
    "colab": {
     "autoexec": {
      "startup": false,
      "wait_interval": 0
     },
     "base_uri": "https://localhost:8080/",
     "height": 193
    },
    "colab_type": "code",
    "executionInfo": {
     "elapsed": 532,
     "status": "ok",
     "timestamp": 1526452964380,
     "user": {
      "displayName": "大下健史",
      "photoUrl": "https://lh3.googleusercontent.com/a/default-user=s128",
      "userId": "114806679545096700120"
     },
     "user_tz": -540
    },
    "id": "ZH5hR1M0r3Ri",
    "outputId": "78c2cf9d-a48c-4918-eee3-bb09d764bffe"
   },
   "outputs": [
    {
     "data": {
      "text/plain": [
       "[('5-ALA', 0.999731183052063),\n",
       " ('clinical', 0.9996986985206604),\n",
       " ('measured', 0.9996945858001709),\n",
       " ('These', 0.999693751335144),\n",
       " ('mammary', 0.9996836185455322),\n",
       " ('oncogenic', 0.9996832609176636),\n",
       " ('Periodicals', 0.9996829628944397),\n",
       " ('Ras/MEK', 0.9996811747550964),\n",
       " ('The', 0.9996808767318726),\n",
       " ('COD', 0.9996804594993591)]"
      ]
     },
     "execution_count": 38,
     "metadata": {},
     "output_type": "execute_result"
    }
   ],
   "source": [
    "model.wv.similar_by_word(\"aminolevulinic\")"
   ]
  },
  {
   "cell_type": "code",
   "execution_count": 39,
   "metadata": {
    "colab": {
     "autoexec": {
      "startup": false,
      "wait_interval": 0
     },
     "base_uri": "https://localhost:8080/",
     "height": 193
    },
    "colab_type": "code",
    "executionInfo": {
     "elapsed": 720,
     "status": "ok",
     "timestamp": 1526364428277,
     "user": {
      "displayName": "大下健史",
      "photoUrl": "https://lh3.googleusercontent.com/a/default-user=s128",
      "userId": "114806679545096700120"
     },
     "user_tz": -540
    },
    "id": "H8MUY1_TXowO",
    "outputId": "b75d98d2-dbe2-4560-f686-d90005f9d9c2"
   },
   "outputs": [
    {
     "data": {
      "text/plain": [
       "[('cells', 0.9998209476470947),\n",
       " ('tumors', 0.9998137950897217),\n",
       " ('accumulation', 0.9998103976249695),\n",
       " ('increased', 0.9998066425323486),\n",
       " ('reduced', 0.9998065233230591),\n",
       " ('oncogenic', 0.9998049736022949),\n",
       " ('cancer', 0.9997977614402771),\n",
       " ('Ras/MEK', 0.9997959136962891),\n",
       " ('one', 0.9997885823249817),\n",
       " ('normal', 0.9997848272323608)]"
      ]
     },
     "execution_count": 39,
     "metadata": {},
     "output_type": "execute_result"
    }
   ],
   "source": [
    "model.wv.similar_by_word(\"PpIX\")"
   ]
  },
  {
   "cell_type": "code",
   "execution_count": 40,
   "metadata": {
    "colab": {
     "autoexec": {
      "startup": false,
      "wait_interval": 0
     },
     "base_uri": "https://localhost:8080/",
     "height": 122
    },
    "colab_type": "code",
    "executionInfo": {
     "elapsed": 786,
     "status": "ok",
     "timestamp": 1527223647199,
     "user": {
      "displayName": "大下健史",
      "photoUrl": "https://lh3.googleusercontent.com/a/default-user=s128",
      "userId": "114806679545096700120"
     },
     "user_tz": -540
    },
    "id": "nqcqRxcLcb4e",
    "outputId": "c2372522-b51a-43a3-a82f-a8a47ba7c408"
   },
   "outputs": [
    {
     "name": "stdout",
     "output_type": "stream",
     "text": [
      "[ALA] 0.9987205622222055\n",
      "[ALA-PDT] 0.9982962961182549\n",
      "[PpIX] 0.9989480842571109\n",
      "[photodynamic] 0.9988406099390729\n",
      "[topical] 0.9986285584476237\n",
      "[ALA+PpIX] 0.9989288964439388\n"
     ]
    }
   ],
   "source": [
    "import numpy\n",
    "\n",
    "def print_corr(w=\"ALA\"):\n",
    "  x = model.docvecs[\"d00\"]\n",
    "  y = model.wv[w]\n",
    "  crr = numpy.corrcoef(x, y)[1][0]\n",
    "  print(f\"[{w}]\", crr)\n",
    "\n",
    "print_corr(\"ALA\")\n",
    "print_corr(\"ALA-PDT\")\n",
    "print_corr(\"PpIX\")\n",
    "print_corr(\"photodynamic\")\n",
    "print_corr(\"topical\")\n",
    "\n",
    "x = model.docvecs[\"d00\"]\n",
    "y = model.wv[\"ALA\"] + model.wv[\"PpIX\"]\n",
    "print(\"[ALA+PpIX]\", numpy.corrcoef(x, y)[1][0])\n"
   ]
  },
  {
   "cell_type": "code",
   "execution_count": 43,
   "metadata": {
    "colab": {
     "autoexec": {
      "startup": false,
      "wait_interval": 0
     },
     "base_uri": "https://localhost:8080/",
     "height": 87
    },
    "colab_type": "code",
    "executionInfo": {
     "elapsed": 1677,
     "status": "ok",
     "timestamp": 1526260932526,
     "user": {
      "displayName": "大下健史",
      "photoUrl": "https://lh3.googleusercontent.com/a/default-user=s128",
      "userId": "114806679545096700120"
     },
     "user_tz": -540
    },
    "id": "kZdwWS09UkQZ",
    "outputId": "5939f16c-df84-42d0-d419-b33e3e7bbd2b"
   },
   "outputs": [
    {
     "name": "stdout",
     "output_type": "stream",
     "text": [
      "total 5256\r\n",
      "-rw-r--r--@ 1 sato.tatsuya  staff   108708  7  4 10:43 v\r\n",
      "-rw-r--r--@ 1 sato.tatsuya  staff   127315  7  4 11:25 note.ipynb\r\n",
      "-rw-r--r--  1 sato.tatsuya  staff  2449197  7  4 11:27 doc2vec.model\r\n"
     ]
    },
    {
     "data": {
      "text/plain": [
       "array([-0.12003061,  0.18445583,  0.07462276,  0.006847  ,  0.0499008 ,\n",
       "       -0.10775075, -0.26138574,  0.08777224,  0.0708819 ,  0.3027707 ,\n",
       "       -0.23294953, -0.12861143,  0.16385606,  0.14683434, -0.06623042,\n",
       "        0.06366331,  0.05804099, -0.35518926,  0.1712981 ,  0.01125715,\n",
       "        0.09179451, -0.30536687, -0.01572692, -0.07496615,  0.19494767,\n",
       "        0.2002736 , -0.23961946,  0.03390005, -0.04180412, -0.16894147,\n",
       "       -0.10461483, -0.0468042 ,  0.14625135, -0.13818249,  0.07227509,\n",
       "        0.09490492, -0.23379886, -0.12793215,  0.15370813,  0.09363359,\n",
       "       -0.07278268, -0.18533331,  0.17677376, -0.12305257,  0.0338447 ,\n",
       "        0.28559923,  0.28736573,  0.0260345 , -0.21661331,  0.30863282,\n",
       "       -0.08083539, -0.2621768 , -0.16121913,  0.1807251 , -0.0706669 ,\n",
       "       -0.21680775, -0.05893498, -0.04101568, -0.34511107, -0.12090942,\n",
       "       -0.01526365, -0.08760747,  0.14734584, -0.00890529, -0.05393054,\n",
       "        0.08441573,  0.25951564,  0.08443393,  0.199078  , -0.13233727,\n",
       "       -0.02065363,  0.3624203 , -0.06579576,  0.18769689, -0.23304905,\n",
       "        0.1087532 , -0.22890696, -0.06926604,  0.14438334,  0.04781709,\n",
       "       -0.08930365,  0.06313945, -0.20066758,  0.04714917,  0.22267237,\n",
       "        0.01183411, -0.12217553, -0.08710223,  0.1158839 ,  0.15487397,\n",
       "        0.02531574, -0.03686145, -0.09551913, -0.19629365,  0.04478997,\n",
       "        0.21672095,  0.20895086, -0.03221604, -0.0822224 ,  0.22130354,\n",
       "        0.13297099,  0.1536687 ,  0.19846797,  0.04761114,  0.16248955,\n",
       "        0.16271153,  0.34906405,  0.03412684,  0.26902413, -0.14457703,\n",
       "       -0.01337608, -0.1849561 , -0.07701449,  0.02159238, -0.21312019,\n",
       "        0.04177653, -0.31075022, -0.15661135,  0.1284175 ,  0.19942343,\n",
       "       -0.26931348,  0.0915795 , -0.05684445,  0.4199254 ,  0.04880989,\n",
       "        0.04322816,  0.17697202, -0.17458993], dtype=float32)"
      ]
     },
     "execution_count": 43,
     "metadata": {},
     "output_type": "execute_result"
    }
   ],
   "source": [
    "model.save(\"doc2vec.model\")\n",
    "!ls -ltr\n",
    "model2 = Doc2Vec.load(\"doc2vec.model\")\n",
    "model2.wv['ALA']"
   ]
  },
  {
   "cell_type": "markdown",
   "metadata": {
    "colab_type": "text",
    "id": "WRpV4ojic8Do"
   },
   "source": [
    "### 単語ベクトルの可視化"
   ]
  },
  {
   "cell_type": "code",
   "execution_count": 44,
   "metadata": {
    "colab": {
     "autoexec": {
      "startup": false,
      "wait_interval": 0
     },
     "base_uri": "https://localhost:8080/",
     "height": 13023
    },
    "colab_type": "code",
    "executionInfo": {
     "elapsed": 654,
     "status": "ok",
     "timestamp": 1526534065539,
     "user": {
      "displayName": "大下健史",
      "photoUrl": "https://lh3.googleusercontent.com/a/default-user=s128",
      "userId": "114806679545096700120"
     },
     "user_tz": -540
    },
    "id": "uyQtP0gLc7Wt",
    "outputId": "86789562-4f87-4d0c-b0fa-5748fa2214ad"
   },
   "outputs": [
    {
     "data": {
      "text/plain": [
       "{'This': <gensim.models.keyedvectors.Vocab at 0x1a20584e48>,\n",
       " 'study': <gensim.models.keyedvectors.Vocab at 0x1a20584cc0>,\n",
       " 'aimed': <gensim.models.keyedvectors.Vocab at 0x1a20584f98>,\n",
       " 'produce': <gensim.models.keyedvectors.Vocab at 0x1a20584fd0>,\n",
       " 'inexpensive': <gensim.models.keyedvectors.Vocab at 0x1a20584d68>,\n",
       " '5-aminolevulinic': <gensim.models.keyedvectors.Vocab at 0x1a20584080>,\n",
       " 'acid': <gensim.models.keyedvectors.Vocab at 0x1a205840f0>,\n",
       " 'ALA': <gensim.models.keyedvectors.Vocab at 0x1a20584eb8>,\n",
       " 'non-sterile': <gensim.models.keyedvectors.Vocab at 0x1a20584cf8>,\n",
       " 'latex': <gensim.models.keyedvectors.Vocab at 0x1a20584ef0>,\n",
       " 'rubber': <gensim.models.keyedvectors.Vocab at 0x1a20584320>,\n",
       " 'sheet': <gensim.models.keyedvectors.Vocab at 0x1a20584358>,\n",
       " 'wastewater': <gensim.models.keyedvectors.Vocab at 0x1a20584ac8>,\n",
       " 'RSW': <gensim.models.keyedvectors.Vocab at 0x1a205844e0>,\n",
       " 'Rhodopseudomonas': <gensim.models.keyedvectors.Vocab at 0x1a20346e80>,\n",
       " 'palustris': <gensim.models.keyedvectors.Vocab at 0x1a1333ad68>,\n",
       " 'TN114': <gensim.models.keyedvectors.Vocab at 0x1a205b5780>,\n",
       " 'PP803': <gensim.models.keyedvectors.Vocab at 0x1a205b5860>,\n",
       " 'possibility': <gensim.models.keyedvectors.Vocab at 0x1a205b5978>,\n",
       " 'use': <gensim.models.keyedvectors.Vocab at 0x1a205b5cf8>,\n",
       " 'agricultural': <gensim.models.keyedvectors.Vocab at 0x1a205b5f60>,\n",
       " 'purposes': <gensim.models.keyedvectors.Vocab at 0x1a205a00b8>,\n",
       " 'investigating': <gensim.models.keyedvectors.Vocab at 0x1a205a0278>,\n",
       " 'optimum': <gensim.models.keyedvectors.Vocab at 0x1a205a0550>,\n",
       " 'conditions': <gensim.models.keyedvectors.Vocab at 0x1a205a0748>,\n",
       " 'applying': <gensim.models.keyedvectors.Vocab at 0x1a205a0780>,\n",
       " 'wood': <gensim.models.keyedvectors.Vocab at 0x1a205a0860>,\n",
       " 'vinegar': <gensim.models.keyedvectors.Vocab at 0x1a205a0a58>,\n",
       " 'WV': <gensim.models.keyedvectors.Vocab at 0x1a205a0ac8>,\n",
       " 'economical': <gensim.models.keyedvectors.Vocab at 0x1a205a0b00>,\n",
       " 'source': <gensim.models.keyedvectors.Vocab at 0x1a205a0e10>,\n",
       " 'levulinic': <gensim.models.keyedvectors.Vocab at 0x1a205a0eb8>,\n",
       " 'enhance': <gensim.models.keyedvectors.Vocab at 0x1a205a3438>,\n",
       " 'content': <gensim.models.keyedvectors.Vocab at 0x1a205a3080>,\n",
       " 'The': <gensim.models.keyedvectors.Vocab at 0x1a205a3278>,\n",
       " 'Box-Behnken': <gensim.models.keyedvectors.Vocab at 0x1a205a34e0>,\n",
       " 'Design': <gensim.models.keyedvectors.Vocab at 0x1a205a3630>,\n",
       " 'experiment': <gensim.models.keyedvectors.Vocab at 0x1a205a37f0>,\n",
       " 'conducted': <gensim.models.keyedvectors.Vocab at 0x1a205a38d0>,\n",
       " 'microaerobic-light': <gensim.models.keyedvectors.Vocab at 0x1a205a3b00>,\n",
       " '96': <gensim.models.keyedvectors.Vocab at 0x1a205a3c18>,\n",
       " 'h': <gensim.models.keyedvectors.Vocab at 0x1a205a3c50>,\n",
       " 'mixed': <gensim.models.keyedvectors.Vocab at 0x1a205a3cc0>,\n",
       " 'culture': <gensim.models.keyedvectors.Vocab at 0x1a205a3d30>,\n",
       " '1:1': <gensim.models.keyedvectors.Vocab at 0x1a205a3d68>,\n",
       " 'varying': <gensim.models.keyedvectors.Vocab at 0x1a205a3e10>,\n",
       " 'initial': <gensim.models.keyedvectors.Vocab at 0x1a205a3e48>,\n",
       " 'pH': <gensim.models.keyedvectors.Vocab at 0x1a205a3ef0>,\n",
       " 'inoculum': <gensim.models.keyedvectors.Vocab at 0x1a205a3f60>,\n",
       " 'size': <gensim.models.keyedvectors.Vocab at 0x1a20588048>,\n",
       " 'v/v': <gensim.models.keyedvectors.Vocab at 0x1a20588160>,\n",
       " 'chemical': <gensim.models.keyedvectors.Vocab at 0x1a205881d0>,\n",
       " 'oxygen': <gensim.models.keyedvectors.Vocab at 0x1a20588278>,\n",
       " 'demand': <gensim.models.keyedvectors.Vocab at 0x1a20588320>,\n",
       " 'COD': <gensim.models.keyedvectors.Vocab at 0x1a20588390>,\n",
       " 'mg/L': <gensim.models.keyedvectors.Vocab at 0x1a20588438>,\n",
       " 'Results': <gensim.models.keyedvectors.Vocab at 0x1a205884e0>,\n",
       " 'showed': <gensim.models.keyedvectors.Vocab at 0x1a20588588>,\n",
       " 'optimal': <gensim.models.keyedvectors.Vocab at 0x1a205885c0>,\n",
       " 'condition': <gensim.models.keyedvectors.Vocab at 0x1a205885f8>,\n",
       " 'set': <gensim.models.keyedvectors.Vocab at 0x1a20588748>,\n",
       " 'extracellular': <gensim.models.keyedvectors.Vocab at 0x1a20588828>,\n",
       " 'found': <gensim.models.keyedvectors.Vocab at 0x1a205889b0>,\n",
       " '7.50': <gensim.models.keyedvectors.Vocab at 0x1a205889e8>,\n",
       " '6.00': <gensim.models.keyedvectors.Vocab at 0x1a20588a20>,\n",
       " '2000': <gensim.models.keyedvectors.Vocab at 0x1a20588a58>,\n",
       " '7.00': <gensim.models.keyedvectors.Vocab at 0x1a20588a90>,\n",
       " '3000': <gensim.models.keyedvectors.Vocab at 0x1a20588ac8>,\n",
       " '4000': <gensim.models.keyedvectors.Vocab at 0x1a20588b00>,\n",
       " 'achieved': <gensim.models.keyedvectors.Vocab at 0x1a20588b38>,\n",
       " 'reduction': <gensim.models.keyedvectors.Vocab at 0x1a20588b70>,\n",
       " 'high': <gensim.models.keyedvectors.Vocab at 0x1a20588ba8>,\n",
       " '63': <gensim.models.keyedvectors.Vocab at 0x1a20588be0>,\n",
       " '71': <gensim.models.keyedvectors.Vocab at 0x1a20588c18>,\n",
       " '75': <gensim.models.keyedvectors.Vocab at 0x1a20588c50>,\n",
       " 'respectively': <gensim.models.keyedvectors.Vocab at 0x1a20588c88>,\n",
       " 'Addition': <gensim.models.keyedvectors.Vocab at 0x1a20588cc0>,\n",
       " 'concentration': <gensim.models.keyedvectors.Vocab at 0x1a20588cf8>,\n",
       " 'mid': <gensim.models.keyedvectors.Vocab at 0x1a20588d30>,\n",
       " 'log': <gensim.models.keyedvectors.Vocab at 0x1a20588d68>,\n",
       " 'phase': <gensim.models.keyedvectors.Vocab at 0x1a20588da0>,\n",
       " '0.63': <gensim.models.keyedvectors.Vocab at 0x1a20588dd8>,\n",
       " '1.25': <gensim.models.keyedvectors.Vocab at 0x1a20588e10>,\n",
       " 'significantly': <gensim.models.keyedvectors.Vocab at 0x1a20588e48>,\n",
       " 'increased': <gensim.models.keyedvectors.Vocab at 0x1a20588e80>,\n",
       " '3.7-4.2': <gensim.models.keyedvectors.Vocab at 0x1a20588eb8>,\n",
       " 'times': <gensim.models.keyedvectors.Vocab at 0x1a20588ef0>,\n",
       " '128': <gensim.models.keyedvectors.Vocab at 0x1a20588f28>,\n",
       " '90': <gensim.models.keyedvectors.Vocab at 0x1a20588f60>,\n",
       " '131': <gensim.models.keyedvectors.Vocab at 0x1a20588f98>,\n",
       " 'μM': <gensim.models.keyedvectors.Vocab at 0x1a20588fd0>,\n",
       " 'compared': <gensim.models.keyedvectors.Vocab at 0x1a205a6048>,\n",
       " 'controls': <gensim.models.keyedvectors.Vocab at 0x1a205a6080>,\n",
       " 'production': <gensim.models.keyedvectors.Vocab at 0x1a205a60b8>,\n",
       " 'cost': <gensim.models.keyedvectors.Vocab at 0x1a205a60f0>,\n",
       " 'could': <gensim.models.keyedvectors.Vocab at 0x1a205a6128>,\n",
       " 'reduced': <gensim.models.keyedvectors.Vocab at 0x1a205a6160>,\n",
       " 'approximately': <gensim.models.keyedvectors.Vocab at 0x1a205a6198>,\n",
       " '31': <gensim.models.keyedvectors.Vocab at 0x1a205a61d0>,\n",
       " 'basis': <gensim.models.keyedvectors.Vocab at 0x1a205a6208>,\n",
       " 'amount': <gensim.models.keyedvectors.Vocab at 0x1a205a6240>,\n",
       " 'used': <gensim.models.keyedvectors.Vocab at 0x1a205a6278>,\n",
       " 'Effluent': <gensim.models.keyedvectors.Vocab at 0x1a205a62b0>,\n",
       " 'containing': <gensim.models.keyedvectors.Vocab at 0x1a205a62e8>,\n",
       " 'using': <gensim.models.keyedvectors.Vocab at 0x1a205a6320>,\n",
       " 'agriculture': <gensim.models.keyedvectors.Vocab at 0x1a205a6358>,\n",
       " 'treating': <gensim.models.keyedvectors.Vocab at 0x1a205a6390>,\n",
       " 'selected': <gensim.models.keyedvectors.Vocab at 0x1a205a63c8>,\n",
       " 'producer': <gensim.models.keyedvectors.Vocab at 0x1a205a6400>,\n",
       " 'R.': <gensim.models.keyedvectors.Vocab at 0x1a205a6438>,\n",
       " 'strains': <gensim.models.keyedvectors.Vocab at 0x1a205a6470>,\n",
       " 'optimized': <gensim.models.keyedvectors.Vocab at 0x1a205a64a8>,\n",
       " 'little': <gensim.models.keyedvectors.Vocab at 0x1a205a64e0>,\n",
       " 'additive': <gensim.models.keyedvectors.Vocab at 0x1a205a6518>,\n",
       " 'Depressive': <gensim.models.keyedvectors.Vocab at 0x1a205a6550>,\n",
       " 'patients': <gensim.models.keyedvectors.Vocab at 0x1a205a6588>,\n",
       " 'often': <gensim.models.keyedvectors.Vocab at 0x1a205a65c0>,\n",
       " 'experience': <gensim.models.keyedvectors.Vocab at 0x1a205a65f8>,\n",
       " 'difficulty': <gensim.models.keyedvectors.Vocab at 0x1a205a6630>,\n",
       " 'performing': <gensim.models.keyedvectors.Vocab at 0x1a205a6668>,\n",
       " 'exercise': <gensim.models.keyedvectors.Vocab at 0x1a205a66a0>,\n",
       " 'due': <gensim.models.keyedvectors.Vocab at 0x1a205a66d8>,\n",
       " 'physical': <gensim.models.keyedvectors.Vocab at 0x1a205a6710>,\n",
       " 'psychological': <gensim.models.keyedvectors.Vocab at 0x1a205a6748>,\n",
       " 'barriers': <gensim.models.keyedvectors.Vocab at 0x1a205a6780>,\n",
       " 'We': <gensim.models.keyedvectors.Vocab at 0x1a205a67b8>,\n",
       " 'examined': <gensim.models.keyedvectors.Vocab at 0x1a205a67f0>,\n",
       " 'effects': <gensim.models.keyedvectors.Vocab at 0x1a205a6828>,\n",
       " 'sodium': <gensim.models.keyedvectors.Vocab at 0x1a205a6860>,\n",
       " 'ferrous': <gensim.models.keyedvectors.Vocab at 0x1a205a6898>,\n",
       " 'citrate': <gensim.models.keyedvectors.Vocab at 0x1a205a68d0>,\n",
       " 'SFC': <gensim.models.keyedvectors.Vocab at 0x1a205a6908>,\n",
       " 'supplementation': <gensim.models.keyedvectors.Vocab at 0x1a205a6940>,\n",
       " 'home-based': <gensim.models.keyedvectors.Vocab at 0x1a205a6978>,\n",
       " 'walking': <gensim.models.keyedvectors.Vocab at 0x1a205a69b0>,\n",
       " 'training': <gensim.models.keyedvectors.Vocab at 0x1a205a69e8>,\n",
       " 'middle-aged': <gensim.models.keyedvectors.Vocab at 0x1a205a6a20>,\n",
       " 'depressive': <gensim.models.keyedvectors.Vocab at 0x1a205a6a58>,\n",
       " 'women': <gensim.models.keyedvectors.Vocab at 0x1a205a6a90>,\n",
       " 'Nine': <gensim.models.keyedvectors.Vocab at 0x1a205a6ac8>,\n",
       " 'outpatients': <gensim.models.keyedvectors.Vocab at 0x1a205a6b00>,\n",
       " '53': <gensim.models.keyedvectors.Vocab at 0x1a205a6b38>,\n",
       " '±': <gensim.models.keyedvectors.Vocab at 0x1a205a6b70>,\n",
       " '8': <gensim.models.keyedvectors.Vocab at 0x1a205a6ba8>,\n",
       " 'SD': <gensim.models.keyedvectors.Vocab at 0x1a205a6be0>,\n",
       " 'yr': <gensim.models.keyedvectors.Vocab at 0x1a205a6c18>,\n",
       " 'major': <gensim.models.keyedvectors.Vocab at 0x1a205a6c50>,\n",
       " 'disorder': <gensim.models.keyedvectors.Vocab at 0x1a205a6c88>,\n",
       " 'participated': <gensim.models.keyedvectors.Vocab at 0x1a205a6cc0>,\n",
       " 'pilot': <gensim.models.keyedvectors.Vocab at 0x1a205a6cf8>,\n",
       " 'randomized': <gensim.models.keyedvectors.Vocab at 0x1a205a6d30>,\n",
       " 'placebo-controlled': <gensim.models.keyedvectors.Vocab at 0x1a205a6d68>,\n",
       " 'double-blind': <gensim.models.keyedvectors.Vocab at 0x1a205a6da0>,\n",
       " 'crossover': <gensim.models.keyedvectors.Vocab at 0x1a205a6dd8>,\n",
       " 'design': <gensim.models.keyedvectors.Vocab at 0x1a205a6e10>,\n",
       " 'They': <gensim.models.keyedvectors.Vocab at 0x1a205a6e48>,\n",
       " 'underwent': <gensim.models.keyedvectors.Vocab at 0x1a205a6e80>,\n",
       " 'two': <gensim.models.keyedvectors.Vocab at 0x1a205a6eb8>,\n",
       " 'trials': <gensim.models.keyedvectors.Vocab at 0x1a205a6ef0>,\n",
       " '7': <gensim.models.keyedvectors.Vocab at 0x1a205a6f28>,\n",
       " 'days': <gensim.models.keyedvectors.Vocab at 0x1a205a6f60>,\n",
       " 'interval': <gensim.models.keyedvectors.Vocab at 0x1a205a6f98>,\n",
       " 'IWT': <gensim.models.keyedvectors.Vocab at 0x1a205a6fd0>,\n",
       " 'placebo': <gensim.models.keyedvectors.Vocab at 0x1a205bb048>,\n",
       " 'supplement': <gensim.models.keyedvectors.Vocab at 0x1a205bb080>,\n",
       " 'intake': <gensim.models.keyedvectors.Vocab at 0x1a205bb0b8>,\n",
       " 'PLC': <gensim.models.keyedvectors.Vocab at 0x1a205bb0f0>,\n",
       " 'intermittently': <gensim.models.keyedvectors.Vocab at 0x1a205bb128>,\n",
       " '10-day': <gensim.models.keyedvectors.Vocab at 0x1a205bb160>,\n",
       " 'washout': <gensim.models.keyedvectors.Vocab at 0x1a205bb198>,\n",
       " 'period': <gensim.models.keyedvectors.Vocab at 0x1a205bb1d0>,\n",
       " 'For': <gensim.models.keyedvectors.Vocab at 0x1a205bb208>,\n",
       " 'first': <gensim.models.keyedvectors.Vocab at 0x1a205bb240>,\n",
       " '6': <gensim.models.keyedvectors.Vocab at 0x1a205bb278>,\n",
       " 'trial': <gensim.models.keyedvectors.Vocab at 0x1a205bb2b0>,\n",
       " 'intensity': <gensim.models.keyedvectors.Vocab at 0x1a205bb2e8>,\n",
       " 'measured': <gensim.models.keyedvectors.Vocab at 0x1a205bb320>,\n",
       " 'accelerometry': <gensim.models.keyedvectors.Vocab at 0x1a205bb358>,\n",
       " 'Before': <gensim.models.keyedvectors.Vocab at 0x1a205bb390>,\n",
       " 'subjects': <gensim.models.keyedvectors.Vocab at 0x1a205bb3c8>,\n",
       " 'graded': <gensim.models.keyedvectors.Vocab at 0x1a205bb400>,\n",
       " 'cycling': <gensim.models.keyedvectors.Vocab at 0x1a205bb438>,\n",
       " 'test': <gensim.models.keyedvectors.Vocab at 0x1a205bb470>,\n",
       " 'lactate': <gensim.models.keyedvectors.Vocab at 0x1a205bb4a8>,\n",
       " 'plasma': <gensim.models.keyedvectors.Vocab at 0x1a205bb4e0>,\n",
       " 'Lac-': <gensim.models.keyedvectors.Vocab at 0x1a205bb518>,\n",
       " 'p': <gensim.models.keyedvectors.Vocab at 0x1a205bb550>,\n",
       " 'consumption': <gensim.models.keyedvectors.Vocab at 0x1a205bb588>,\n",
       " 'rate': <gensim.models.keyedvectors.Vocab at 0x1a205bb5c0>,\n",
       " 'Formula': <gensim.models.keyedvectors.Vocab at 0x1a205bb5f8>,\n",
       " 'see': <gensim.models.keyedvectors.Vocab at 0x1a205bb630>,\n",
       " 'text': <gensim.models.keyedvectors.Vocab at 0x1a205bb668>,\n",
       " 'carbon': <gensim.models.keyedvectors.Vocab at 0x1a205bb6a0>,\n",
       " 'dioxide': <gensim.models.keyedvectors.Vocab at 0x1a205bb6d8>,\n",
       " 'depression': <gensim.models.keyedvectors.Vocab at 0x1a205bb710>,\n",
       " 'severity': <gensim.models.keyedvectors.Vocab at 0x1a205bb748>,\n",
       " 'Montgomery-Åsberg': <gensim.models.keyedvectors.Vocab at 0x1a205bb780>,\n",
       " 'Depression': <gensim.models.keyedvectors.Vocab at 0x1a205bb7b8>,\n",
       " 'Rating': <gensim.models.keyedvectors.Vocab at 0x1a205bb7f0>,\n",
       " 'Scale': <gensim.models.keyedvectors.Vocab at 0x1a205bb828>,\n",
       " 'MADRS': <gensim.models.keyedvectors.Vocab at 0x1a205bb860>,\n",
       " 'increases': <gensim.models.keyedvectors.Vocab at 0x1a205bb898>,\n",
       " 'attenuated': <gensim.models.keyedvectors.Vocab at 0x1a205bb8d0>,\n",
       " 'vs.': <gensim.models.keyedvectors.Vocab at 0x1a205bb908>,\n",
       " '×': <gensim.models.keyedvectors.Vocab at 0x1a205bb940>,\n",
       " 'workload': <gensim.models.keyedvectors.Vocab at 0x1a205bb978>,\n",
       " 'P': <gensim.models.keyedvectors.Vocab at 0x1a205bb9b0>,\n",
       " '0.01': <gensim.models.keyedvectors.Vocab at 0x1a205bb9e8>,\n",
       " 'accompanied': <gensim.models.keyedvectors.Vocab at 0x1a205bba20>,\n",
       " 'impulse': <gensim.models.keyedvectors.Vocab at 0x1a205bba58>,\n",
       " 'time': <gensim.models.keyedvectors.Vocab at 0x1a205bba90>,\n",
       " 'fast': <gensim.models.keyedvectors.Vocab at 0x1a205bbac8>,\n",
       " '0.05': <gensim.models.keyedvectors.Vocab at 0x1a205bbb00>,\n",
       " 'decreased': <gensim.models.keyedvectors.Vocab at 0x1a205bbb38>,\n",
       " 'MADRS-score': <gensim.models.keyedvectors.Vocab at 0x1a205bbb70>,\n",
       " '0.001': <gensim.models.keyedvectors.Vocab at 0x1a205bbba8>,\n",
       " 'Thus': <gensim.models.keyedvectors.Vocab at 0x1a205bbbe0>,\n",
       " 'achievement': <gensim.models.keyedvectors.Vocab at 0x1a205bbc18>,\n",
       " 'improve': <gensim.models.keyedvectors.Vocab at 0x1a205bbc50>,\n",
       " 'symptoms': <gensim.models.keyedvectors.Vocab at 0x1a205bbc88>,\n",
       " 'OBJECTIVE': <gensim.models.keyedvectors.Vocab at 0x1a205bbcc0>,\n",
       " 'To': <gensim.models.keyedvectors.Vocab at 0x1a205bbcf8>,\n",
       " 'curative': <gensim.models.keyedvectors.Vocab at 0x1a205bbd30>,\n",
       " 'effect': <gensim.models.keyedvectors.Vocab at 0x1a205bbd68>,\n",
       " 'red-light': <gensim.models.keyedvectors.Vocab at 0x1a205bbda0>,\n",
       " '5-Aminolevulinic': <gensim.models.keyedvectors.Vocab at 0x1a205bbdd8>,\n",
       " 'photodynamic': <gensim.models.keyedvectors.Vocab at 0x1a205bbe10>,\n",
       " 'therapy': <gensim.models.keyedvectors.Vocab at 0x1a205bbe48>,\n",
       " 'ALA-PDT': <gensim.models.keyedvectors.Vocab at 0x1a205bbe80>,\n",
       " 'port': <gensim.models.keyedvectors.Vocab at 0x1a205bbeb8>,\n",
       " 'wine': <gensim.models.keyedvectors.Vocab at 0x1a205bbef0>,\n",
       " 'stains': <gensim.models.keyedvectors.Vocab at 0x1a205bbf28>,\n",
       " 'PWS': <gensim.models.keyedvectors.Vocab at 0x1a205bbf60>,\n",
       " 'comb': <gensim.models.keyedvectors.Vocab at 0x1a205bbf98>,\n",
       " 'animal': <gensim.models.keyedvectors.Vocab at 0x1a205bbfd0>,\n",
       " 'model': <gensim.models.keyedvectors.Vocab at 0x1a205a4048>,\n",
       " 'METHODS': <gensim.models.keyedvectors.Vocab at 0x1a205a4080>,\n",
       " '160': <gensim.models.keyedvectors.Vocab at 0x1a205a40b8>,\n",
       " 'male': <gensim.models.keyedvectors.Vocab at 0x1a205a40f0>,\n",
       " 'cocks': <gensim.models.keyedvectors.Vocab at 0x1a205a4128>,\n",
       " 'randomly': <gensim.models.keyedvectors.Vocab at 0x1a205a4160>,\n",
       " 'divided': <gensim.models.keyedvectors.Vocab at 0x1a205a4198>,\n",
       " '16': <gensim.models.keyedvectors.Vocab at 0x1a205a41d0>,\n",
       " 'groups': <gensim.models.keyedvectors.Vocab at 0x1a205a4208>,\n",
       " 'group': <gensim.models.keyedvectors.Vocab at 0x1a205a4240>,\n",
       " 'given': <gensim.models.keyedvectors.Vocab at 0x1a205a4278>,\n",
       " 'topical': <gensim.models.keyedvectors.Vocab at 0x1a205a42b0>,\n",
       " 'systemic': <gensim.models.keyedvectors.Vocab at 0x1a205a42e8>,\n",
       " 'application': <gensim.models.keyedvectors.Vocab at 0x1a205a4320>,\n",
       " 'Light': <gensim.models.keyedvectors.Vocab at 0x1a205a4358>,\n",
       " '630': <gensim.models.keyedvectors.Vocab at 0x1a205a4390>,\n",
       " 'nm': <gensim.models.keyedvectors.Vocab at 0x1a205a43c8>,\n",
       " 'red': <gensim.models.keyedvectors.Vocab at 0x1a205a4400>,\n",
       " 'light': <gensim.models.keyedvectors.Vocab at 0x1a205a4438>,\n",
       " 'irradiation': <gensim.models.keyedvectors.Vocab at 0x1a205a4470>,\n",
       " 'different': <gensim.models.keyedvectors.Vocab at 0x1a205a44a8>,\n",
       " 'density': <gensim.models.keyedvectors.Vocab at 0x1a205a44e0>,\n",
       " 'ALA.': <gensim.models.keyedvectors.Vocab at 0x1a205a4518>,\n",
       " 'PDL': <gensim.models.keyedvectors.Vocab at 0x1a205a4550>,\n",
       " 'distribution': <gensim.models.keyedvectors.Vocab at 0x1a205a4588>,\n",
       " 'fluorescence': <gensim.models.keyedvectors.Vocab at 0x1a205a45c0>,\n",
       " 'tissue': <gensim.models.keyedvectors.Vocab at 0x1a205a45f8>,\n",
       " 'detected': <gensim.models.keyedvectors.Vocab at 0x1a205a4630>,\n",
       " 'morphological': <gensim.models.keyedvectors.Vocab at 0x1a205a4668>,\n",
       " 'changes': <gensim.models.keyedvectors.Vocab at 0x1a205a46a0>,\n",
       " 'pathological': <gensim.models.keyedvectors.Vocab at 0x1a205a46d8>,\n",
       " 'capillary': <gensim.models.keyedvectors.Vocab at 0x1a205a4710>,\n",
       " 'observed': <gensim.models.keyedvectors.Vocab at 0x1a205a4748>,\n",
       " 'treatment': <gensim.models.keyedvectors.Vocab at 0x1a205a4780>,\n",
       " '0': <gensim.models.keyedvectors.Vocab at 0x1a205a47b8>,\n",
       " '1': <gensim.models.keyedvectors.Vocab at 0x1a205a47f0>,\n",
       " '3': <gensim.models.keyedvectors.Vocab at 0x1a205a4828>,\n",
       " '5': <gensim.models.keyedvectors.Vocab at 0x1a205a4860>,\n",
       " '14': <gensim.models.keyedvectors.Vocab at 0x1a205a4898>,\n",
       " 'RESULTS': <gensim.models.keyedvectors.Vocab at 0x1a205a48d0>,\n",
       " 'PpIX': <gensim.models.keyedvectors.Vocab at 0x1a205a4908>,\n",
       " 'generated': <gensim.models.keyedvectors.Vocab at 0x1a205a4940>,\n",
       " 'In': <gensim.models.keyedvectors.Vocab at 0x1a205a4978>,\n",
       " 'low': <gensim.models.keyedvectors.Vocab at 0x1a205a49b0>,\n",
       " '80': <gensim.models.keyedvectors.Vocab at 0x1a205a49e8>,\n",
       " 'J/cm2': <gensim.models.keyedvectors.Vocab at 0x1a205a4a20>,\n",
       " 'morphology': <gensim.models.keyedvectors.Vocab at 0x1a205a4a58>,\n",
       " 'histopathology': <gensim.models.keyedvectors.Vocab at 0x1a205a4a90>,\n",
       " 'obvious': <gensim.models.keyedvectors.Vocab at 0x1a205a4ac8>,\n",
       " 'change': <gensim.models.keyedvectors.Vocab at 0x1a205a4b00>,\n",
       " 'While': <gensim.models.keyedvectors.Vocab at 0x1a205a4b38>,\n",
       " '200': <gensim.models.keyedvectors.Vocab at 0x1a205a4b70>,\n",
       " 'severe': <gensim.models.keyedvectors.Vocab at 0x1a205a4ba8>,\n",
       " 'erosion': <gensim.models.keyedvectors.Vocab at 0x1a205a4be0>,\n",
       " 'thick': <gensim.models.keyedvectors.Vocab at 0x1a205a4c18>,\n",
       " 'scab': <gensim.models.keyedvectors.Vocab at 0x1a205a4c50>,\n",
       " 'appeared': <gensim.models.keyedvectors.Vocab at 0x1a205a4c88>,\n",
       " 'epidermal': <gensim.models.keyedvectors.Vocab at 0x1a205a4cc0>,\n",
       " 'necrosis': <gensim.models.keyedvectors.Vocab at 0x1a205a4cf8>,\n",
       " 'loss': <gensim.models.keyedvectors.Vocab at 0x1a205a4d30>,\n",
       " 'immunohistochemistry': <gensim.models.keyedvectors.Vocab at 0x1a205a4d68>,\n",
       " 'significant': <gensim.models.keyedvectors.Vocab at 0x1a205a4da0>,\n",
       " 'number': <gensim.models.keyedvectors.Vocab at 0x1a205a4dd8>,\n",
       " 'capillaries': <gensim.models.keyedvectors.Vocab at 0x1a205a4e10>,\n",
       " 'partial': <gensim.models.keyedvectors.Vocab at 0x1a205a4e48>,\n",
       " 'thin': <gensim.models.keyedvectors.Vocab at 0x1a205a4e80>,\n",
       " 'side': <gensim.models.keyedvectors.Vocab at 0x1a205a4eb8>,\n",
       " 'With': <gensim.models.keyedvectors.Vocab at 0x1a205a4ef0>,\n",
       " 'increase': <gensim.models.keyedvectors.Vocab at 0x1a205a4f28>,\n",
       " 'charred': <gensim.models.keyedvectors.Vocab at 0x1a205a4f60>,\n",
       " 'crust': <gensim.models.keyedvectors.Vocab at 0x1a205a4f98>,\n",
       " 'even': <gensim.models.keyedvectors.Vocab at 0x1a205a4fd0>,\n",
       " 'scar': <gensim.models.keyedvectors.Vocab at 0x1a205b8048>,\n",
       " 'degrees': <gensim.models.keyedvectors.Vocab at 0x1a205b8080>,\n",
       " 'damage': <gensim.models.keyedvectors.Vocab at 0x1a205b80b8>,\n",
       " 'dermal': <gensim.models.keyedvectors.Vocab at 0x1a205b80f0>,\n",
       " 'tissues': <gensim.models.keyedvectors.Vocab at 0x1a205b8128>,\n",
       " 'And': <gensim.models.keyedvectors.Vocab at 0x1a205b8160>,\n",
       " 'control': <gensim.models.keyedvectors.Vocab at 0x1a205b8198>,\n",
       " 'ruddy': <gensim.models.keyedvectors.Vocab at 0x1a205b81d0>,\n",
       " 'plump': <gensim.models.keyedvectors.Vocab at 0x1a205b8208>,\n",
       " 'CONCLUSION': <gensim.models.keyedvectors.Vocab at 0x1a205b8240>,\n",
       " 'These': <gensim.models.keyedvectors.Vocab at 0x1a205b8278>,\n",
       " 'results': <gensim.models.keyedvectors.Vocab at 0x1a205b82b0>,\n",
       " 'suggest': <gensim.models.keyedvectors.Vocab at 0x1a205b82e8>,\n",
       " 'either': <gensim.models.keyedvectors.Vocab at 0x1a205b8320>,\n",
       " 'suitable': <gensim.models.keyedvectors.Vocab at 0x1a205b8358>,\n",
       " 'methods': <gensim.models.keyedvectors.Vocab at 0x1a205b8390>,\n",
       " 'Copyright': <gensim.models.keyedvectors.Vocab at 0x1a205b83c8>,\n",
       " '©': <gensim.models.keyedvectors.Vocab at 0x1a205b8400>,\n",
       " '2018': <gensim.models.keyedvectors.Vocab at 0x1a205b8438>,\n",
       " 'Elsevier': <gensim.models.keyedvectors.Vocab at 0x1a205b8470>,\n",
       " 'B.V.': <gensim.models.keyedvectors.Vocab at 0x1a205b84a8>,\n",
       " 'All': <gensim.models.keyedvectors.Vocab at 0x1a205b84e0>,\n",
       " 'rights': <gensim.models.keyedvectors.Vocab at 0x1a205b8518>,\n",
       " 'reserved': <gensim.models.keyedvectors.Vocab at 0x1a205b8550>,\n",
       " 'KEYWORDS': <gensim.models.keyedvectors.Vocab at 0x1a205b8588>,\n",
       " 'BACKGROUND': <gensim.models.keyedvectors.Vocab at 0x1a205b85c0>,\n",
       " 'Patients': <gensim.models.keyedvectors.Vocab at 0x1a205b85f8>,\n",
       " 'suffering': <gensim.models.keyedvectors.Vocab at 0x1a205b8630>,\n",
       " 'malignant': <gensim.models.keyedvectors.Vocab at 0x1a205b8668>,\n",
       " 'gliomas': <gensim.models.keyedvectors.Vocab at 0x1a205b86a0>,\n",
       " 'poor': <gensim.models.keyedvectors.Vocab at 0x1a205b86d8>,\n",
       " 'prognosis': <gensim.models.keyedvectors.Vocab at 0x1a205b8710>,\n",
       " 'surgical': <gensim.models.keyedvectors.Vocab at 0x1a205b8748>,\n",
       " 'tumors': <gensim.models.keyedvectors.Vocab at 0x1a205b8780>,\n",
       " '5-ALA': <gensim.models.keyedvectors.Vocab at 0x1a205b87b8>,\n",
       " 'become': <gensim.models.keyedvectors.Vocab at 0x1a205b87f0>,\n",
       " 'new': <gensim.models.keyedvectors.Vocab at 0x1a205b8828>,\n",
       " 'standard': <gensim.models.keyedvectors.Vocab at 0x1a205b8860>,\n",
       " 'AIMS': <gensim.models.keyedvectors.Vocab at 0x1a205b8898>,\n",
       " 'review': <gensim.models.keyedvectors.Vocab at 0x1a205b88d0>,\n",
       " 'intends': <gensim.models.keyedvectors.Vocab at 0x1a205b8908>,\n",
       " 'provide': <gensim.models.keyedvectors.Vocab at 0x1a205b8940>,\n",
       " 'overview': <gensim.models.keyedvectors.Vocab at 0x1a205b8978>,\n",
       " 'current': <gensim.models.keyedvectors.Vocab at 0x1a205b89b0>,\n",
       " 'status': <gensim.models.keyedvectors.Vocab at 0x1a205b89e8>,\n",
       " 'significance': <gensim.models.keyedvectors.Vocab at 0x1a205b8a20>,\n",
       " 'limitations': <gensim.models.keyedvectors.Vocab at 0x1a205b8a58>,\n",
       " 'future': <gensim.models.keyedvectors.Vocab at 0x1a205b8a90>,\n",
       " 'perspectives': <gensim.models.keyedvectors.Vocab at 0x1a205b8ac8>,\n",
       " 'based': <gensim.models.keyedvectors.Vocab at 0x1a205b8b00>,\n",
       " 'guided': <gensim.models.keyedvectors.Vocab at 0x1a205b8b38>,\n",
       " 'surgery': <gensim.models.keyedvectors.Vocab at 0x1a205b8b70>,\n",
       " 'brain': <gensim.models.keyedvectors.Vocab at 0x1a205b8ba8>,\n",
       " 'tumor': <gensim.models.keyedvectors.Vocab at 0x1a205b8be0>,\n",
       " 'MATERIALS': <gensim.models.keyedvectors.Vocab at 0x1a205b8c18>,\n",
       " 'AND': <gensim.models.keyedvectors.Vocab at 0x1a205b8c50>,\n",
       " 'From': <gensim.models.keyedvectors.Vocab at 0x1a205b8c88>,\n",
       " 'peer': <gensim.models.keyedvectors.Vocab at 0x1a205b8cc0>,\n",
       " 'reviewed': <gensim.models.keyedvectors.Vocab at 0x1a205b8cf8>,\n",
       " 'publications': <gensim.models.keyedvectors.Vocab at 0x1a205b8d30>,\n",
       " 'many': <gensim.models.keyedvectors.Vocab at 0x1a205b8d68>,\n",
       " 'aspects': <gensim.models.keyedvectors.Vocab at 0x1a205b8da0>,\n",
       " 'connected': <gensim.models.keyedvectors.Vocab at 0x1a205b8dd8>,\n",
       " 'topic': <gensim.models.keyedvectors.Vocab at 0x1a205b8e10>,\n",
       " 'potential': <gensim.models.keyedvectors.Vocab at 0x1a205b8e48>,\n",
       " 'clinical': <gensim.models.keyedvectors.Vocab at 0x1a205b8e80>,\n",
       " 'relevance': <gensim.models.keyedvectors.Vocab at 0x1a205b8eb8>,\n",
       " 'put': <gensim.models.keyedvectors.Vocab at 0x1a205b8ef0>,\n",
       " 'context': <gensim.models.keyedvectors.Vocab at 0x1a205b8f28>,\n",
       " 'DISCUSSION': <gensim.models.keyedvectors.Vocab at 0x1a205b8f60>,\n",
       " 'selectivity': <gensim.models.keyedvectors.Vocab at 0x1a205b8f98>,\n",
       " 'accumulation': <gensim.models.keyedvectors.Vocab at 0x1a205b8fd0>,\n",
       " 'fluorescent': <gensim.models.keyedvectors.Vocab at 0x1a2059f048>,\n",
       " 'protoporphyrin': <gensim.models.keyedvectors.Vocab at 0x1a2059f080>,\n",
       " 'IX': <gensim.models.keyedvectors.Vocab at 0x1a2059f0b8>,\n",
       " 'administration': <gensim.models.keyedvectors.Vocab at 0x1a2059f0f0>,\n",
       " 'enables': <gensim.models.keyedvectors.Vocab at 0x1a2059f128>,\n",
       " 'intra-operative': <gensim.models.keyedvectors.Vocab at 0x1a2059f160>,\n",
       " 'guidance': <gensim.models.keyedvectors.Vocab at 0x1a2059f198>,\n",
       " 'unimpaired': <gensim.models.keyedvectors.Vocab at 0x1a2059f1d0>,\n",
       " 'brainshift': <gensim.models.keyedvectors.Vocab at 0x1a2059f208>,\n",
       " 'require': <gensim.models.keyedvectors.Vocab at 0x1a2059f240>,\n",
       " 'expensive': <gensim.models.keyedvectors.Vocab at 0x1a2059f278>,\n",
       " 'equipment': <gensim.models.keyedvectors.Vocab at 0x1a2059f2b0>,\n",
       " 'neurosurgical': <gensim.models.keyedvectors.Vocab at 0x1a2059f2e8>,\n",
       " 'aim': <gensim.models.keyedvectors.Vocab at 0x1a2059f320>,\n",
       " 'complete': <gensim.models.keyedvectors.Vocab at 0x1a2059f358>,\n",
       " 'resection': <gensim.models.keyedvectors.Vocab at 0x1a2059f390>,\n",
       " 'enhancing': <gensim.models.keyedvectors.Vocab at 0x1a2059f3c8>,\n",
       " 'easily': <gensim.models.keyedvectors.Vocab at 0x1a2059f400>,\n",
       " 'improves': <gensim.models.keyedvectors.Vocab at 0x1a2059f438>,\n",
       " 'Nevertheless': <gensim.models.keyedvectors.Vocab at 0x1a2059f470>,\n",
       " 'despite': <gensim.models.keyedvectors.Vocab at 0x1a2059f4a8>,\n",
       " 'better': <gensim.models.keyedvectors.Vocab at 0x1a2059f4e0>,\n",
       " 'inevitably': <gensim.models.keyedvectors.Vocab at 0x1a2059f518>,\n",
       " 'recur': <gensim.models.keyedvectors.Vocab at 0x1a2059f550>,\n",
       " 'order': <gensim.models.keyedvectors.Vocab at 0x1a2059f588>,\n",
       " 'prolong': <gensim.models.keyedvectors.Vocab at 0x1a2059f5c0>,\n",
       " 'survival': <gensim.models.keyedvectors.Vocab at 0x1a2059f5f8>,\n",
       " 'phototoxic': <gensim.models.keyedvectors.Vocab at 0x1a2059f630>,\n",
       " 'properties': <gensim.models.keyedvectors.Vocab at 0x1a2059f668>,\n",
       " 'presently': <gensim.models.keyedvectors.Vocab at 0x1a2059f6a0>,\n",
       " 'exploited': <gensim.models.keyedvectors.Vocab at 0x1a2059f6d8>,\n",
       " 'post-operative': <gensim.models.keyedvectors.Vocab at 0x1a2059f710>,\n",
       " 'interstitial': <gensim.models.keyedvectors.Vocab at 0x1a2059f748>,\n",
       " 'PDT': <gensim.models.keyedvectors.Vocab at 0x1a2059f780>,\n",
       " 'offer': <gensim.models.keyedvectors.Vocab at 0x1a2059f7b8>,\n",
       " 'intriguing': <gensim.models.keyedvectors.Vocab at 0x1a2059f7f0>,\n",
       " 'option': <gensim.models.keyedvectors.Vocab at 0x1a2059f828>,\n",
       " 'management': <gensim.models.keyedvectors.Vocab at 0x1a2059f860>,\n",
       " 'Lasers': <gensim.models.keyedvectors.Vocab at 0x1a2059f898>,\n",
       " 'Surg': <gensim.models.keyedvectors.Vocab at 0x1a2059f8d0>,\n",
       " 'Med': <gensim.models.keyedvectors.Vocab at 0x1a2059f908>,\n",
       " '9999:1-21': <gensim.models.keyedvectors.Vocab at 0x1a2059f940>,\n",
       " 'Wiley': <gensim.models.keyedvectors.Vocab at 0x1a2059f978>,\n",
       " 'Periodicals': <gensim.models.keyedvectors.Vocab at 0x1a2059f9b0>,\n",
       " 'Inc.': <gensim.models.keyedvectors.Vocab at 0x1a2059f9e8>,\n",
       " 'Authors': <gensim.models.keyedvectors.Vocab at 0x1a2059fa20>,\n",
       " 'Surgery': <gensim.models.keyedvectors.Vocab at 0x1a2059fa58>,\n",
       " 'Medicine': <gensim.models.keyedvectors.Vocab at 0x1a2059fa90>,\n",
       " 'Published': <gensim.models.keyedvectors.Vocab at 0x1a2059fac8>,\n",
       " 'aminolevulinic': <gensim.models.keyedvectors.Vocab at 0x1a2059fb00>,\n",
       " 'glioma': <gensim.models.keyedvectors.Vocab at 0x1a2059fb38>,\n",
       " 'stereotactic': <gensim.models.keyedvectors.Vocab at 0x1a2059fb70>,\n",
       " 'biopsy': <gensim.models.keyedvectors.Vocab at 0x1a2059fba8>,\n",
       " 'evaluate': <gensim.models.keyedvectors.Vocab at 0x1a2059fbe0>,\n",
       " 'feasibility': <gensim.models.keyedvectors.Vocab at 0x1a2059fc18>,\n",
       " 'diagnosis': <gensim.models.keyedvectors.Vocab at 0x1a2059fc50>,\n",
       " 'PDD-ALA': <gensim.models.keyedvectors.Vocab at 0x1a2059fc88>,\n",
       " 'detection': <gensim.models.keyedvectors.Vocab at 0x1a2059fcc0>,\n",
       " 'prostate': <gensim.models.keyedvectors.Vocab at 0x1a2059fcf8>,\n",
       " 'cancer': <gensim.models.keyedvectors.Vocab at 0x1a2059fd30>,\n",
       " 'PCa': <gensim.models.keyedvectors.Vocab at 0x1a2059fd68>,\n",
       " 'cells': <gensim.models.keyedvectors.Vocab at 0x1a2059fda0>,\n",
       " 'urine': <gensim.models.keyedvectors.Vocab at 0x1a2059fdd8>,\n",
       " 'samples': <gensim.models.keyedvectors.Vocab at 0x1a2059fe10>,\n",
       " 'massage': <gensim.models.keyedvectors.Vocab at 0x1a2059fe48>,\n",
       " 'suspected': <gensim.models.keyedvectors.Vocab at 0x1a2059fe80>,\n",
       " 'One': <gensim.models.keyedvectors.Vocab at 0x1a2059feb8>,\n",
       " 'hundred': <gensim.models.keyedvectors.Vocab at 0x1a2059fef0>,\n",
       " 'eighty-nine': <gensim.models.keyedvectors.Vocab at 0x1a2059ff28>,\n",
       " 'abnormal': <gensim.models.keyedvectors.Vocab at 0x1a2059ff60>,\n",
       " 'digital': <gensim.models.keyedvectors.Vocab at 0x1a2059ff98>,\n",
       " 'rectal': <gensim.models.keyedvectors.Vocab at 0x1a2059ffd0>,\n",
       " 'examination': <gensim.models.keyedvectors.Vocab at 0x1a1331f048>,\n",
       " 'and/or': <gensim.models.keyedvectors.Vocab at 0x1a1331f080>,\n",
       " 'elevated': <gensim.models.keyedvectors.Vocab at 0x1a1331f0b8>,\n",
       " 'prostate-specific': <gensim.models.keyedvectors.Vocab at 0x1a1331f0f0>,\n",
       " 'antigen': <gensim.models.keyedvectors.Vocab at 0x1a1331f128>,\n",
       " 'PSA': <gensim.models.keyedvectors.Vocab at 0x1a1331f160>,\n",
       " 'level': <gensim.models.keyedvectors.Vocab at 0x1a1331f198>,\n",
       " 'recruited': <gensim.models.keyedvectors.Vocab at 0x1a1331f1d0>,\n",
       " 'After': <gensim.models.keyedvectors.Vocab at 0x1a1331f208>,\n",
       " '60': <gensim.models.keyedvectors.Vocab at 0x1a1331f240>,\n",
       " 'mL': <gensim.models.keyedvectors.Vocab at 0x1a1331f278>,\n",
       " 'voided': <gensim.models.keyedvectors.Vocab at 0x1a1331f2b0>,\n",
       " 'collected': <gensim.models.keyedvectors.Vocab at 0x1a1331f2e8>,\n",
       " '50': <gensim.models.keyedvectors.Vocab at 0x1a1331f320>,\n",
       " 'rest': <gensim.models.keyedvectors.Vocab at 0x1a1331f358>,\n",
       " 'polymerase': <gensim.models.keyedvectors.Vocab at 0x1a1331f390>,\n",
       " 'chain': <gensim.models.keyedvectors.Vocab at 0x1a1331f3c8>,\n",
       " 'reaction': <gensim.models.keyedvectors.Vocab at 0x1a1331f400>,\n",
       " 'PCR': <gensim.models.keyedvectors.Vocab at 0x1a1331f438>,\n",
       " 'glyceraldehyde': <gensim.models.keyedvectors.Vocab at 0x1a1331f470>,\n",
       " '3-phosphate': <gensim.models.keyedvectors.Vocab at 0x1a1331f4a8>,\n",
       " 'dehydrogenase': <gensim.models.keyedvectors.Vocab at 0x1a1331f4e0>,\n",
       " 'GAPDH': <gensim.models.keyedvectors.Vocab at 0x1a1331f518>,\n",
       " 'incubation': <gensim.models.keyedvectors.Vocab at 0x1a1331f550>,\n",
       " '2': <gensim.models.keyedvectors.Vocab at 0x1a1331f588>,\n",
       " '635': <gensim.models.keyedvectors.Vocab at 0x1a1331f5c0>,\n",
       " '405-nm': <gensim.models.keyedvectors.Vocab at 0x1a1331f5f8>,\n",
       " 'wavelength': <gensim.models.keyedvectors.Vocab at 0x1a1331f630>,\n",
       " 'excitation': <gensim.models.keyedvectors.Vocab at 0x1a1331f668>,\n",
       " 'transrectal': <gensim.models.keyedvectors.Vocab at 0x1a1331f6a0>,\n",
       " 'ultrasound': <gensim.models.keyedvectors.Vocab at 0x1a1331f6d8>,\n",
       " 'TRUS': <gensim.models.keyedvectors.Vocab at 0x1a1331f710>,\n",
       " '-guided': <gensim.models.keyedvectors.Vocab at 0x1a1331f748>,\n",
       " 'Overall': <gensim.models.keyedvectors.Vocab at 0x1a1331f780>,\n",
       " '126/189': <gensim.models.keyedvectors.Vocab at 0x1a1331f7b8>,\n",
       " '67': <gensim.models.keyedvectors.Vocab at 0x1a1331f7f0>,\n",
       " 'bands': <gensim.models.keyedvectors.Vocab at 0x1a1331f828>,\n",
       " 'analyzed': <gensim.models.keyedvectors.Vocab at 0x1a1331f860>,\n",
       " 'area': <gensim.models.keyedvectors.Vocab at 0x1a1331f898>,\n",
       " 'curve': <gensim.models.keyedvectors.Vocab at 0x1a1331f8d0>,\n",
       " 'sensitivity': <gensim.models.keyedvectors.Vocab at 0x1a1331f908>,\n",
       " 'specificity': <gensim.models.keyedvectors.Vocab at 0x1a1331f940>,\n",
       " '0.74': <gensim.models.keyedvectors.Vocab at 0x1a1331f978>,\n",
       " '77': <gensim.models.keyedvectors.Vocab at 0x1a1331f9b0>,\n",
       " 'value': <gensim.models.keyedvectors.Vocab at 0x1a1331f9e8>,\n",
       " 'higher': <gensim.models.keyedvectors.Vocab at 0x1a1331fa20>,\n",
       " 'Gleason': <gensim.models.keyedvectors.Vocab at 0x1a1331fa58>,\n",
       " 'scores': <gensim.models.keyedvectors.Vocab at 0x1a1331fa90>,\n",
       " '0.03': <gensim.models.keyedvectors.Vocab at 0x1a1331fac8>,\n",
       " '0.005': <gensim.models.keyedvectors.Vocab at 0x1a1331fb00>,\n",
       " '8-10': <gensim.models.keyedvectors.Vocab at 0x1a1331fb38>,\n",
       " '0.0002': <gensim.models.keyedvectors.Vocab at 0x1a1331fb70>,\n",
       " 'negative': <gensim.models.keyedvectors.Vocab at 0x1a1331fba8>,\n",
       " 'multivariate': <gensim.models.keyedvectors.Vocab at 0x1a1331fbe0>,\n",
       " 'analysis': <gensim.models.keyedvectors.Vocab at 0x1a1331fc18>,\n",
       " 'findings': <gensim.models.keyedvectors.Vocab at 0x1a1331fc50>,\n",
       " 'markers': <gensim.models.keyedvectors.Vocab at 0x1a1331fc88>,\n",
       " 'prediction': <gensim.models.keyedvectors.Vocab at 0x1a1331fcc0>,\n",
       " 'positive': <gensim.models.keyedvectors.Vocab at 0x1a1331fcf8>,\n",
       " 'useful': <gensim.models.keyedvectors.Vocab at 0x1a1331fd30>,\n",
       " 'predict': <gensim.models.keyedvectors.Vocab at 0x1a1331fd68>,\n",
       " 'PCa-detection': <gensim.models.keyedvectors.Vocab at 0x1a1331fda0>,\n",
       " 'method': <gensim.models.keyedvectors.Vocab at 0x1a1331fdd8>,\n",
       " 'Protoporphyrin': <gensim.models.keyedvectors.Vocab at 0x1a1331fe10>,\n",
       " 'endogenous': <gensim.models.keyedvectors.Vocab at 0x1a1331fe48>,\n",
       " 'molecule': <gensim.models.keyedvectors.Vocab at 0x1a1331fe80>,\n",
       " 'selectively': <gensim.models.keyedvectors.Vocab at 0x1a1331feb8>,\n",
       " 'accumulates': <gensim.models.keyedvectors.Vocab at 0x1a1331fef0>,\n",
       " 'treated': <gensim.models.keyedvectors.Vocab at 0x1a1331ff28>,\n",
       " 'heme': <gensim.models.keyedvectors.Vocab at 0x1a1331ff60>,\n",
       " 'precursor': <gensim.models.keyedvectors.Vocab at 0x1a1331ff98>,\n",
       " 'cancer-specific': <gensim.models.keyedvectors.Vocab at 0x1a1331ffd0>,\n",
       " 'distinguish': <gensim.models.keyedvectors.Vocab at 0x1a13322048>,\n",
       " 'normal': <gensim.models.keyedvectors.Vocab at 0x1a13322080>,\n",
       " 'fluorescence-guided': <gensim.models.keyedvectors.Vocab at 0x1a133220b8>,\n",
       " 'FGS': <gensim.models.keyedvectors.Vocab at 0x1a133220f0>,\n",
       " 'destroy': <gensim.models.keyedvectors.Vocab at 0x1a13322128>,\n",
       " 'demonstrate': <gensim.models.keyedvectors.Vocab at 0x1a13322160>,\n",
       " 'oncogenic': <gensim.models.keyedvectors.Vocab at 0x1a13322198>,\n",
       " 'Ras/mitogen-activated': <gensim.models.keyedvectors.Vocab at 0x1a133221d0>,\n",
       " 'protein': <gensim.models.keyedvectors.Vocab at 0x1a13322208>,\n",
       " 'kinase': <gensim.models.keyedvectors.Vocab at 0x1a13322240>,\n",
       " 'MEK': <gensim.models.keyedvectors.Vocab at 0x1a13322278>,\n",
       " 'pathway': <gensim.models.keyedvectors.Vocab at 0x1a133222b0>,\n",
       " 'modulate': <gensim.models.keyedvectors.Vocab at 0x1a133222e8>,\n",
       " 'Methods': <gensim.models.keyedvectors.Vocab at 0x1a13322320>,\n",
       " 'identify': <gensim.models.keyedvectors.Vocab at 0x1a13322358>,\n",
       " 'Ras': <gensim.models.keyedvectors.Vocab at 0x1a13322390>,\n",
       " 'downstream': <gensim.models.keyedvectors.Vocab at 0x1a133223c8>,\n",
       " 'elements': <gensim.models.keyedvectors.Vocab at 0x1a13322400>,\n",
       " 'involved': <gensim.models.keyedvectors.Vocab at 0x1a13322438>,\n",
       " 'inhibitors': <gensim.models.keyedvectors.Vocab at 0x1a13322470>,\n",
       " 'inhibition': <gensim.models.keyedvectors.Vocab at 0x1a133224a8>,\n",
       " 'human': <gensim.models.keyedvectors.Vocab at 0x1a133224e0>,\n",
       " 'cell': <gensim.models.keyedvectors.Vocab at 0x1a13322518>,\n",
       " 'lines': <gensim.models.keyedvectors.Vocab at 0x1a13322550>,\n",
       " 'BALB/c': <gensim.models.keyedvectors.Vocab at 0x1a13322588>,\n",
       " 'mice': <gensim.models.keyedvectors.Vocab at 0x1a133225c0>,\n",
       " 'bearing': <gensim.models.keyedvectors.Vocab at 0x1a133225f8>,\n",
       " 'mammary': <gensim.models.keyedvectors.Vocab at 0x1a13322630>,\n",
       " '4T1': <gensim.models.keyedvectors.Vocab at 0x1a13322668>,\n",
       " 'athymic': <gensim.models.keyedvectors.Vocab at 0x1a133226a0>,\n",
       " 'nude': <gensim.models.keyedvectors.Vocab at 0x1a133226d8>,\n",
       " 'mechanisms': <gensim.models.keyedvectors.Vocab at 0x1a13322710>,\n",
       " 'regulation': <gensim.models.keyedvectors.Vocab at 0x1a13322748>,\n",
       " 'biochemical': <gensim.models.keyedvectors.Vocab at 0x1a13322780>,\n",
       " 'molecular': <gensim.models.keyedvectors.Vocab at 0x1a133227b8>,\n",
       " 'biological': <gensim.models.keyedvectors.Vocab at 0x1a133227f0>,\n",
       " 'experiments': <gensim.models.keyedvectors.Vocab at 0x1a13322828>,\n",
       " 'Inhibition': <gensim.models.keyedvectors.Vocab at 0x1a13322860>,\n",
       " 'one': <gensim.models.keyedvectors.Vocab at 0x1a13322898>,\n",
       " 'promoted': <gensim.models.keyedvectors.Vocab at 0x1a133228d0>,\n",
       " 'Increased': <gensim.models.keyedvectors.Vocab at 0x1a13322908>,\n",
       " 'types': <gensim.models.keyedvectors.Vocab at 0x1a13322940>,\n",
       " 'identified': <gensim.models.keyedvectors.Vocab at 0x1a13322978>,\n",
       " 'independent': <gensim.models.keyedvectors.Vocab at 0x1a133229b0>,\n",
       " 'cellular': <gensim.models.keyedvectors.Vocab at 0x1a133229e8>,\n",
       " 'underlie': <gensim.models.keyedvectors.Vocab at 0x1a13322a20>,\n",
       " 'efflux': <gensim.models.keyedvectors.Vocab at 0x1a13322a58>,\n",
       " 'decreasing': <gensim.models.keyedvectors.Vocab at 0x1a13322a90>,\n",
       " 'expression': <gensim.models.keyedvectors.Vocab at 0x1a13322ac8>,\n",
       " 'ATP': <gensim.models.keyedvectors.Vocab at 0x1a13322b00>,\n",
       " 'binding': <gensim.models.keyedvectors.Vocab at 0x1a13322b38>,\n",
       " 'cassette': <gensim.models.keyedvectors.Vocab at 0x1a13322b70>,\n",
       " 'subfamily': <gensim.models.keyedvectors.Vocab at 0x1a13322ba8>,\n",
       " 'B': <gensim.models.keyedvectors.Vocab at 0x1a13322be0>,\n",
       " 'member': <gensim.models.keyedvectors.Vocab at 0x1a13322c18>,\n",
       " 'ABCB1': <gensim.models.keyedvectors.Vocab at 0x1a13322c50>,\n",
       " 'transporter': <gensim.models.keyedvectors.Vocab at 0x1a13322c88>,\n",
       " 'addition': <gensim.models.keyedvectors.Vocab at 0x1a13322cc0>,\n",
       " 'activity': <gensim.models.keyedvectors.Vocab at 0x1a13322cf8>,\n",
       " 'ferrochelatase': <gensim.models.keyedvectors.Vocab at 0x1a13322d30>,\n",
       " 'FECH': <gensim.models.keyedvectors.Vocab at 0x1a13322d68>,\n",
       " 'enzyme': <gensim.models.keyedvectors.Vocab at 0x1a13322da0>,\n",
       " 'responsible': <gensim.models.keyedvectors.Vocab at 0x1a13322dd8>,\n",
       " 'converting': <gensim.models.keyedvectors.Vocab at 0x1a13322e10>,\n",
       " 'Finally': <gensim.models.keyedvectors.Vocab at 0x1a13322e48>,\n",
       " 'vivo': <gensim.models.keyedvectors.Vocab at 0x1a13322e80>,\n",
       " '2.2-': <gensim.models.keyedvectors.Vocab at 0x1a13322eb8>,\n",
       " '2.4-fold': <gensim.models.keyedvectors.Vocab at 0x1a13322ef0>,\n",
       " 'within': <gensim.models.keyedvectors.Vocab at 0x1a13322f28>,\n",
       " 'injected': <gensim.models.keyedvectors.Vocab at 0x1a13322f60>,\n",
       " 'without': <gensim.models.keyedvectors.Vocab at 0x1a13322f98>,\n",
       " 'organs': <gensim.models.keyedvectors.Vocab at 0x1a13322fd0>,\n",
       " 'Similar': <gensim.models.keyedvectors.Vocab at 0x1a1330d048>,\n",
       " 'also': <gensim.models.keyedvectors.Vocab at 0x1a1330d080>,\n",
       " 'xenograft': <gensim.models.keyedvectors.Vocab at 0x1a1330d0b8>,\n",
       " 'Conclusion': <gensim.models.keyedvectors.Vocab at 0x1a1330d0f0>,\n",
       " 'Our': <gensim.models.keyedvectors.Vocab at 0x1a1330d128>,\n",
       " 'demonstrates': <gensim.models.keyedvectors.Vocab at 0x1a1330d160>,\n",
       " 'Ras/MEK': <gensim.models.keyedvectors.Vocab at 0x1a1330d198>,\n",
       " 'enhances': <gensim.models.keyedvectors.Vocab at 0x1a1330d1d0>,\n",
       " 'vitro': <gensim.models.keyedvectors.Vocab at 0x1a1330d208>,\n",
       " 'manner': <gensim.models.keyedvectors.Vocab at 0x1a1330d240>,\n",
       " 'suppressing': <gensim.models.keyedvectors.Vocab at 0x1a1330d278>,\n",
       " 'may': <gensim.models.keyedvectors.Vocab at 0x1a1330d2b0>,\n",
       " 'viable': <gensim.models.keyedvectors.Vocab at 0x1a1330d2e8>,\n",
       " 'strategy': <gensim.models.keyedvectors.Vocab at 0x1a1330d320>,\n",
       " 'intensify': <gensim.models.keyedvectors.Vocab at 0x1a1330d358>,\n",
       " 'applications': <gensim.models.keyedvectors.Vocab at 0x1a1330d390>,\n",
       " 'Hidradenitis': <gensim.models.keyedvectors.Vocab at 0x1a1330d3c8>,\n",
       " 'suppurativa/acne': <gensim.models.keyedvectors.Vocab at 0x1a1330d400>,\n",
       " 'inversa': <gensim.models.keyedvectors.Vocab at 0x1a1330d438>,\n",
       " 'HS/AI': <gensim.models.keyedvectors.Vocab at 0x1a1330d470>,\n",
       " 'type': <gensim.models.keyedvectors.Vocab at 0x1a1330d4a8>,\n",
       " 'chronic': <gensim.models.keyedvectors.Vocab at 0x1a1330d4e0>,\n",
       " 'suppurative': <gensim.models.keyedvectors.Vocab at 0x1a1330d518>,\n",
       " 'inflammatory': <gensim.models.keyedvectors.Vocab at 0x1a1330d550>,\n",
       " 'hair': <gensim.models.keyedvectors.Vocab at 0x1a1330d588>,\n",
       " 'follicles': <gensim.models.keyedvectors.Vocab at 0x1a1330d5c0>,\n",
       " 'characterized': <gensim.models.keyedvectors.Vocab at 0x1a1330d5f8>,\n",
       " 'recurrent': <gensim.models.keyedvectors.Vocab at 0x1a1330d630>,\n",
       " 'abscesses': <gensim.models.keyedvectors.Vocab at 0x1a1330d668>,\n",
       " 'sinus': <gensim.models.keyedvectors.Vocab at 0x1a1330d6a0>,\n",
       " 'tracts': <gensim.models.keyedvectors.Vocab at 0x1a1330d6d8>,\n",
       " 'scars': <gensim.models.keyedvectors.Vocab at 0x1a1330d710>,\n",
       " 'So': <gensim.models.keyedvectors.Vocab at 0x1a1330d748>,\n",
       " 'far': <gensim.models.keyedvectors.Vocab at 0x1a1330d780>,\n",
       " 'prospective': <gensim.models.keyedvectors.Vocab at 0x1a1330d7b8>,\n",
       " 'proving': <gensim.models.keyedvectors.Vocab at 0x1a1330d7f0>,\n",
       " 'efficacy': <gensim.models.keyedvectors.Vocab at 0x1a1330d828>,\n",
       " 'safety': <gensim.models.keyedvectors.Vocab at 0x1a1330d860>,\n",
       " 'disease': <gensim.models.keyedvectors.Vocab at 0x1a1330d898>,\n",
       " 'report': <gensim.models.keyedvectors.Vocab at 0x1a1330d8d0>,\n",
       " 'case': <gensim.models.keyedvectors.Vocab at 0x1a1330d908>,\n",
       " 'resolution': <gensim.models.keyedvectors.Vocab at 0x1a1330d940>,\n",
       " 'skin': <gensim.models.keyedvectors.Vocab at 0x1a1330d978>,\n",
       " 'lesions': <gensim.models.keyedvectors.Vocab at 0x1a1330d9b0>,\n",
       " 'ulcer': <gensim.models.keyedvectors.Vocab at 0x1a1330d9e8>,\n",
       " 'healing': <gensim.models.keyedvectors.Vocab at 0x1a1330da20>,\n",
       " 'disappearance': <gensim.models.keyedvectors.Vocab at 0x1a1330da58>,\n",
       " 'nine': <gensim.models.keyedvectors.Vocab at 0x1a1330da90>,\n",
       " 'treatments': <gensim.models.keyedvectors.Vocab at 0x1a1330dac8>,\n",
       " 'Hepatocellular': <gensim.models.keyedvectors.Vocab at 0x1a1330db00>,\n",
       " 'carcinoma': <gensim.models.keyedvectors.Vocab at 0x1a1330db38>,\n",
       " 'HCC': <gensim.models.keyedvectors.Vocab at 0x1a1330db70>,\n",
       " 'third': <gensim.models.keyedvectors.Vocab at 0x1a1330dba8>,\n",
       " 'lethal': <gensim.models.keyedvectors.Vocab at 0x1a1330dbe0>,\n",
       " 'worldwide': <gensim.models.keyedvectors.Vocab at 0x1a1330dc18>,\n",
       " 'Despite': <gensim.models.keyedvectors.Vocab at 0x1a1330dc50>,\n",
       " 'progress': <gensim.models.keyedvectors.Vocab at 0x1a1330dc88>,\n",
       " 'identifying': <gensim.models.keyedvectors.Vocab at 0x1a1330dcc0>,\n",
       " 'risk': <gensim.models.keyedvectors.Vocab at 0x1a1330dcf8>,\n",
       " 'factors': <gensim.models.keyedvectors.Vocab at 0x1a1330dd30>,\n",
       " 'incidence': <gensim.models.keyedvectors.Vocab at 0x1a1330dd68>,\n",
       " 'increasing': <gensim.models.keyedvectors.Vocab at 0x1a1330dda0>,\n",
       " 'Moreover': <gensim.models.keyedvectors.Vocab at 0x1a1330ddd8>,\n",
       " 'therapeutic': <gensim.models.keyedvectors.Vocab at 0x1a1330de10>,\n",
       " 'options': <gensim.models.keyedvectors.Vocab at 0x1a1330de48>,\n",
       " 'limited': <gensim.models.keyedvectors.Vocab at 0x1a1330de80>,\n",
       " 'Therefore': <gensim.models.keyedvectors.Vocab at 0x1a1330deb8>,\n",
       " 'alternative': <gensim.models.keyedvectors.Vocab at 0x1a1330def0>,\n",
       " 'innovative': <gensim.models.keyedvectors.Vocab at 0x1a1330df28>,\n",
       " 'strategies': <gensim.models.keyedvectors.Vocab at 0x1a1330df60>,\n",
       " 'urgently': <gensim.models.keyedvectors.Vocab at 0x1a1330df98>,\n",
       " 'required': <gensim.models.keyedvectors.Vocab at 0x1a1330dfd0>,\n",
       " 'R-Tf-D-LP4': <gensim.models.keyedvectors.Vocab at 0x1a1331c048>,\n",
       " 'cell-penetrating': <gensim.models.keyedvectors.Vocab at 0x1a1331c080>,\n",
       " 'peptide': <gensim.models.keyedvectors.Vocab at 0x1a1331c0b8>,\n",
       " 'derived': <gensim.models.keyedvectors.Vocab at 0x1a1331c0f0>,\n",
       " 'mitochondrial': <gensim.models.keyedvectors.Vocab at 0x1a1331c128>,\n",
       " 'multifunctional': <gensim.models.keyedvectors.Vocab at 0x1a1331c160>,\n",
       " 'voltage-dependent': <gensim.models.keyedvectors.Vocab at 0x1a1331c198>,\n",
       " 'anion': <gensim.models.keyedvectors.Vocab at 0x1a1331c1d0>,\n",
       " 'channel': <gensim.models.keyedvectors.Vocab at 0x1a1331c208>,\n",
       " 'VDAC1': <gensim.models.keyedvectors.Vocab at 0x1a1331c240>,\n",
       " 'highly': <gensim.models.keyedvectors.Vocab at 0x1a1331c278>,\n",
       " 'effective': <gensim.models.keyedvectors.Vocab at 0x1a1331c2b0>,\n",
       " 'liver': <gensim.models.keyedvectors.Vocab at 0x1a1331c2e8>,\n",
       " 'Recently': <gensim.models.keyedvectors.Vocab at 0x1a1331c320>,\n",
       " 'demonstrated': <gensim.models.keyedvectors.Vocab at 0x1a1331c358>,\n",
       " 'induced': <gensim.models.keyedvectors.Vocab at 0x1a1331c390>,\n",
       " 'apoptosis': <gensim.models.keyedvectors.Vocab at 0x1a1331c3c8>,\n",
       " 'inhibited': <gensim.models.keyedvectors.Vocab at 0x1a1331c400>,\n",
       " 'growth': <gensim.models.keyedvectors.Vocab at 0x1a1331c438>,\n",
       " 'mouse': <gensim.models.keyedvectors.Vocab at 0x1a1331c470>,\n",
       " 'models': <gensim.models.keyedvectors.Vocab at 0x1a1331c4a8>,\n",
       " 'liver-derived': <gensim.models.keyedvectors.Vocab at 0x1a1331c4e0>,\n",
       " 'three': <gensim.models.keyedvectors.Vocab at 0x1a1331c518>,\n",
       " 'included': <gensim.models.keyedvectors.Vocab at 0x1a1331c550>,\n",
       " 'diethylnitrosamine': <gensim.models.keyedvectors.Vocab at 0x1a1331c588>,\n",
       " 'DEN': <gensim.models.keyedvectors.Vocab at 0x1a1331c5c0>,\n",
       " '-induced': <gensim.models.keyedvectors.Vocab at 0x1a1331c5f8>,\n",
       " 'metabolically': <gensim.models.keyedvectors.Vocab at 0x1a1331c630>,\n",
       " 'high-fat': <gensim.models.keyedvectors.Vocab at 0x1a1331c668>,\n",
       " 'diet-induced': <gensim.models.keyedvectors.Vocab at 0x1a1331c6a0>,\n",
       " 'subcutaneous': <gensim.models.keyedvectors.Vocab at 0x1a1331c6d8>,\n",
       " 'HepG2': <gensim.models.keyedvectors.Vocab at 0x1a1331c710>,\n",
       " 'Intravenous': <gensim.models.keyedvectors.Vocab at 0x1a1331c748>,\n",
       " 'injection': <gensim.models.keyedvectors.Vocab at 0x1a1331c780>,\n",
       " 'tumor-carrying': <gensim.models.keyedvectors.Vocab at 0x1a1331c7b8>,\n",
       " 'DEN-treated': <gensim.models.keyedvectors.Vocab at 0x1a1331c7f0>,\n",
       " 'resulted': <gensim.models.keyedvectors.Vocab at 0x1a1331c828>,\n",
       " 'dose-dependent': <gensim.models.keyedvectors.Vocab at 0x1a1331c860>,\n",
       " 'elimination': <gensim.models.keyedvectors.Vocab at 0x1a1331c898>,\n",
       " 'TUNEL': <gensim.models.keyedvectors.Vocab at 0x1a1331c8d0>,\n",
       " 'staining': <gensim.models.keyedvectors.Vocab at 0x1a1331c908>,\n",
       " 'sections': <gensim.models.keyedvectors.Vocab at 0x1a1331c940>,\n",
       " 'peptide-induced': <gensim.models.keyedvectors.Vocab at 0x1a1331c978>,\n",
       " 'Hematoxylin/eosin': <gensim.models.keyedvectors.Vocab at 0x1a1331c9b0>,\n",
       " 'Sirius': <gensim.models.keyedvectors.Vocab at 0x1a1331c9e8>,\n",
       " 'fibrotic': <gensim.models.keyedvectors.Vocab at 0x1a1331ca20>,\n",
       " 'formation': <gensim.models.keyedvectors.Vocab at 0x1a1331ca58>,\n",
       " 'Immunohistochemical': <gensim.models.keyedvectors.Vocab at 0x1a1331ca90>,\n",
       " 'numbers': <gensim.models.keyedvectors.Vocab at 0x1a1331cac8>,\n",
       " 'α-SMA-expressing': <gensim.models.keyedvectors.Vocab at 0x1a1331cb00>,\n",
       " 'R-Tf-D-LP4-treated': <gensim.models.keyedvectors.Vocab at 0x1a1331cb38>,\n",
       " 'livers': <gensim.models.keyedvectors.Vocab at 0x1a1331cb70>,\n",
       " 'Additionally': <gensim.models.keyedvectors.Vocab at 0x1a1331cba8>,\n",
       " 'macrophage': <gensim.models.keyedvectors.Vocab at 0x1a1331cbe0>,\n",
       " 'presence': <gensim.models.keyedvectors.Vocab at 0x1a1331cc18>,\n",
       " 'Liver': <gensim.models.keyedvectors.Vocab at 0x1a1331cc50>,\n",
       " 'steatohepatic': <gensim.models.keyedvectors.Vocab at 0x1a1331cc88>,\n",
       " 'pathology': <gensim.models.keyedvectors.Vocab at 0x1a1331ccc0>,\n",
       " 'reflected': <gensim.models.keyedvectors.Vocab at 0x1a1331ccf8>,\n",
       " 'fatty': <gensim.models.keyedvectors.Vocab at 0x1a1331cd30>,\n",
       " 'inflammation': <gensim.models.keyedvectors.Vocab at 0x1a1331cd68>,\n",
       " 'ballooning': <gensim.models.keyedvectors.Vocab at 0x1a1331cda0>,\n",
       " 'degeneration': <gensim.models.keyedvectors.Vocab at 0x1a1331cdd8>,\n",
       " 'fibrosis': <gensim.models.keyedvectors.Vocab at 0x1a1331ce10>,\n",
       " 'eliminated': <gensim.models.keyedvectors.Vocab at 0x1a1331ce48>,\n",
       " 'upon': <gensim.models.keyedvectors.Vocab at 0x1a1331ce80>,\n",
       " 'Peptide': <gensim.models.keyedvectors.Vocab at 0x1a1331ceb8>,\n",
       " 'development': <gensim.models.keyedvectors.Vocab at 0x1a1331cef0>,\n",
       " 'nonalcoholic': <gensim.models.keyedvectors.Vocab at 0x1a1331cf28>,\n",
       " 'steatohepatitis-hepatocellular': <gensim.models.keyedvectors.Vocab at 0x1a1331cf60>,\n",
       " 'HFD': <gensim.models.keyedvectors.Vocab at 0x1a1331cf98>,\n",
       " 'xenografts': <gensim.models.keyedvectors.Vocab at 0x1a1331cfd0>}"
      ]
     },
     "execution_count": 44,
     "metadata": {},
     "output_type": "execute_result"
    }
   ],
   "source": [
    "model.wv.vocab"
   ]
  },
  {
   "cell_type": "markdown",
   "metadata": {
    "colab_type": "text",
    "id": "tx8cN1F9XAmq"
   },
   "source": [
    "## word2vec を使ってみる"
   ]
  },
  {
   "cell_type": "code",
   "execution_count": 0,
   "metadata": {
    "colab": {
     "autoexec": {
      "startup": false,
      "wait_interval": 0
     }
    },
    "colab_type": "code",
    "id": "GVMGeALXPnBB"
   },
   "outputs": [],
   "source": []
  },
  {
   "cell_type": "code",
   "execution_count": 0,
   "metadata": {
    "colab": {
     "autoexec": {
      "startup": false,
      "wait_interval": 0
     }
    },
    "colab_type": "code",
    "id": "SoUS0o_rXkMY"
   },
   "outputs": [],
   "source": [
    "from gensim.models.word2vec import Word2Vec"
   ]
  },
  {
   "cell_type": "code",
   "execution_count": 0,
   "metadata": {
    "colab": {
     "autoexec": {
      "startup": false,
      "wait_interval": 0
     }
    },
    "colab_type": "code",
    "id": "Ha4LnMvYOaq-"
   },
   "outputs": [],
   "source": [
    "sentences = []\n",
    "for txt in docs:\n",
    "  _s = sent_tokenize(txt)\n",
    "  for t in _s:\n",
    "    #s = word_tokenize(t)\n",
    "    s = [ w for w in word_tokenize(t) if w not in stop_words ]\n",
    "    sentences.append(s)\n"
   ]
  },
  {
   "cell_type": "code",
   "execution_count": 0,
   "metadata": {
    "colab": {
     "autoexec": {
      "startup": false,
      "wait_interval": 0
     }
    },
    "colab_type": "code",
    "id": "ObxfFUPZXZRd"
   },
   "outputs": [],
   "source": [
    "model_w2v = Word2Vec(sentences, size=128, min_count=1, window=5, seed=123, hs=1)"
   ]
  },
  {
   "cell_type": "code",
   "execution_count": 55,
   "metadata": {
    "colab": {
     "autoexec": {
      "startup": false,
      "wait_interval": 0
     },
     "base_uri": "https://localhost:8080/",
     "height": 193
    },
    "colab_type": "code",
    "executionInfo": {
     "elapsed": 594,
     "status": "ok",
     "timestamp": 1526365769231,
     "user": {
      "displayName": "大下健史",
      "photoUrl": "https://lh3.googleusercontent.com/a/default-user=s128",
      "userId": "114806679545096700120"
     },
     "user_tz": -540
    },
    "id": "Q3wa7y6_YN6b",
    "outputId": "9b88f32c-d4cd-433d-d2d8-7c348d7bed1a"
   },
   "outputs": [
    {
     "data": {
      "text/plain": [
       "[('suspected', 0.28630536794662476),\n",
       " ('biopsy', 0.28629907965660095),\n",
       " ('lines', 0.28521400690078735),\n",
       " ('human', 0.2640345096588135),\n",
       " ('vs.', 0.2587617039680481),\n",
       " ('peptide', 0.2488127052783966),\n",
       " ('level', 0.2438606470823288),\n",
       " ('higher', 0.23779696226119995),\n",
       " ('application', 0.2368009239435196),\n",
       " ('wavelength', 0.23492580652236938)]"
      ]
     },
     "execution_count": 55,
     "metadata": {
      "tags": []
     },
     "output_type": "execute_result"
    }
   ],
   "source": [
    "model_w2v.wv.most_similar(\"ALA\")"
   ]
  },
  {
   "cell_type": "code",
   "execution_count": 56,
   "metadata": {
    "colab": {
     "autoexec": {
      "startup": false,
      "wait_interval": 0
     },
     "base_uri": "https://localhost:8080/",
     "height": 418
    },
    "colab_type": "code",
    "executionInfo": {
     "elapsed": 561,
     "status": "error",
     "timestamp": 1526365774234,
     "user": {
      "displayName": "大下健史",
      "photoUrl": "https://lh3.googleusercontent.com/a/default-user=s128",
      "userId": "114806679545096700120"
     },
     "user_tz": -540
    },
    "id": "viTjg-LKQEfS",
    "outputId": "553f14bc-fe18-4d6a-fbf7-2a02bd212ec6"
   },
   "outputs": [
    {
     "ename": "KeyError",
     "evalue": "ignored",
     "output_type": "error",
     "traceback": [
      "\u001b[0;31m---------------------------------------------------------------------------\u001b[0m",
      "\u001b[0;31mKeyError\u001b[0m                                  Traceback (most recent call last)",
      "\u001b[0;32m<ipython-input-56-db9d304970e4>\u001b[0m in \u001b[0;36m<module>\u001b[0;34m()\u001b[0m\n\u001b[0;32m----> 1\u001b[0;31m \u001b[0mmodel_w2v\u001b[0m\u001b[0;34m.\u001b[0m\u001b[0mwv\u001b[0m\u001b[0;34m.\u001b[0m\u001b[0mmost_similar\u001b[0m\u001b[0;34m(\u001b[0m\u001b[0;34m\"ala\"\u001b[0m\u001b[0;34m)\u001b[0m\u001b[0;34m\u001b[0m\u001b[0m\n\u001b[0m",
      "\u001b[0;32m/usr/local/lib/python3.6/dist-packages/gensim/models/keyedvectors.py\u001b[0m in \u001b[0;36mmost_similar\u001b[0;34m(self, positive, negative, topn, restrict_vocab, indexer)\u001b[0m\n\u001b[1;32m    363\u001b[0m                 \u001b[0mmean\u001b[0m\u001b[0;34m.\u001b[0m\u001b[0mappend\u001b[0m\u001b[0;34m(\u001b[0m\u001b[0mweight\u001b[0m \u001b[0;34m*\u001b[0m \u001b[0mword\u001b[0m\u001b[0;34m)\u001b[0m\u001b[0;34m\u001b[0m\u001b[0m\n\u001b[1;32m    364\u001b[0m             \u001b[0;32melse\u001b[0m\u001b[0;34m:\u001b[0m\u001b[0;34m\u001b[0m\u001b[0m\n\u001b[0;32m--> 365\u001b[0;31m                 \u001b[0mmean\u001b[0m\u001b[0;34m.\u001b[0m\u001b[0mappend\u001b[0m\u001b[0;34m(\u001b[0m\u001b[0mweight\u001b[0m \u001b[0;34m*\u001b[0m \u001b[0mself\u001b[0m\u001b[0;34m.\u001b[0m\u001b[0mword_vec\u001b[0m\u001b[0;34m(\u001b[0m\u001b[0mword\u001b[0m\u001b[0;34m,\u001b[0m \u001b[0muse_norm\u001b[0m\u001b[0;34m=\u001b[0m\u001b[0;32mTrue\u001b[0m\u001b[0;34m)\u001b[0m\u001b[0;34m)\u001b[0m\u001b[0;34m\u001b[0m\u001b[0m\n\u001b[0m\u001b[1;32m    366\u001b[0m                 \u001b[0;32mif\u001b[0m \u001b[0mword\u001b[0m \u001b[0;32min\u001b[0m \u001b[0mself\u001b[0m\u001b[0;34m.\u001b[0m\u001b[0mvocab\u001b[0m\u001b[0;34m:\u001b[0m\u001b[0;34m\u001b[0m\u001b[0m\n\u001b[1;32m    367\u001b[0m                     \u001b[0mall_words\u001b[0m\u001b[0;34m.\u001b[0m\u001b[0madd\u001b[0m\u001b[0;34m(\u001b[0m\u001b[0mself\u001b[0m\u001b[0;34m.\u001b[0m\u001b[0mvocab\u001b[0m\u001b[0;34m[\u001b[0m\u001b[0mword\u001b[0m\u001b[0;34m]\u001b[0m\u001b[0;34m.\u001b[0m\u001b[0mindex\u001b[0m\u001b[0;34m)\u001b[0m\u001b[0;34m\u001b[0m\u001b[0m\n",
      "\u001b[0;32m/usr/local/lib/python3.6/dist-packages/gensim/models/keyedvectors.py\u001b[0m in \u001b[0;36mword_vec\u001b[0;34m(self, word, use_norm)\u001b[0m\n\u001b[1;32m    272\u001b[0m             \u001b[0;32mreturn\u001b[0m \u001b[0mresult\u001b[0m\u001b[0;34m\u001b[0m\u001b[0m\n\u001b[1;32m    273\u001b[0m         \u001b[0;32melse\u001b[0m\u001b[0;34m:\u001b[0m\u001b[0;34m\u001b[0m\u001b[0m\n\u001b[0;32m--> 274\u001b[0;31m             \u001b[0;32mraise\u001b[0m \u001b[0mKeyError\u001b[0m\u001b[0;34m(\u001b[0m\u001b[0;34m\"word '%s' not in vocabulary\"\u001b[0m \u001b[0;34m%\u001b[0m \u001b[0mword\u001b[0m\u001b[0;34m)\u001b[0m\u001b[0;34m\u001b[0m\u001b[0m\n\u001b[0m\u001b[1;32m    275\u001b[0m \u001b[0;34m\u001b[0m\u001b[0m\n\u001b[1;32m    276\u001b[0m     \u001b[0;32mdef\u001b[0m \u001b[0mget_vector\u001b[0m\u001b[0;34m(\u001b[0m\u001b[0mself\u001b[0m\u001b[0;34m,\u001b[0m \u001b[0mword\u001b[0m\u001b[0;34m)\u001b[0m\u001b[0;34m:\u001b[0m\u001b[0;34m\u001b[0m\u001b[0m\n",
      "\u001b[0;31mKeyError\u001b[0m: \"word 'ala' not in vocabulary\""
     ]
    }
   ],
   "source": [
    "model_w2v.wv.most_similar(\"ala\")"
   ]
  },
  {
   "cell_type": "code",
   "execution_count": 15,
   "metadata": {
    "colab": {
     "autoexec": {
      "startup": false,
      "wait_interval": 0
     },
     "base_uri": "https://localhost:8080/",
     "height": 653
    },
    "colab_type": "code",
    "executionInfo": {
     "elapsed": 527,
     "status": "ok",
     "timestamp": 1526260944891,
     "user": {
      "displayName": "大下健史",
      "photoUrl": "https://lh3.googleusercontent.com/a/default-user=s128",
      "userId": "114806679545096700120"
     },
     "user_tz": -540
    },
    "id": "dWxWWayUYWIU",
    "outputId": "66bb50dd-38cf-4549-eabb-b8099be18413"
   },
   "outputs": [
    {
     "name": "stderr",
     "output_type": "stream",
     "text": [
      "/usr/local/lib/python3.6/dist-packages/ipykernel_launcher.py:1: DeprecationWarning: Call to deprecated `__getitem__` (Method will be removed in 4.0.0, use self.wv.__getitem__() instead).\n",
      "  \"\"\"Entry point for launching an IPython kernel.\n"
     ]
    },
    {
     "data": {
      "text/plain": [
       "array([-1.0134105e-03,  1.5339239e-03,  3.0394134e-03,  3.0444609e-03,\n",
       "       -1.8634626e-03,  2.9404338e-03, -1.8008141e-05,  1.8967274e-03,\n",
       "        2.0861051e-03, -4.2824866e-03,  1.9788083e-03,  1.9208768e-03,\n",
       "       -2.5379770e-03, -7.8319927e-04,  4.1189599e-03,  1.7217455e-03,\n",
       "       -1.4654294e-03,  1.1347667e-03, -9.9318917e-04,  2.7858843e-03,\n",
       "        2.4060844e-03,  3.2390305e-03,  2.2179233e-03,  2.4751094e-03,\n",
       "       -2.7930886e-03, -3.7656780e-03,  7.4222061e-04, -7.9163886e-04,\n",
       "       -1.8915015e-04, -3.5814825e-03,  8.4188185e-04,  1.2060381e-03,\n",
       "       -1.2045883e-03, -1.5391675e-03,  1.8062076e-03,  2.3510484e-03,\n",
       "       -1.2720677e-03, -2.0894783e-03,  1.4451373e-03,  2.5015362e-03,\n",
       "        1.2227798e-04, -9.6634019e-04, -3.6166755e-03, -1.0987178e-03,\n",
       "        2.5019897e-03,  5.2798068e-04,  3.8835863e-03, -1.5351627e-03,\n",
       "        7.0581335e-04, -4.0057403e-04,  2.5099393e-03, -3.4252438e-03,\n",
       "        2.7231991e-03,  2.8576157e-03,  5.5128412e-04,  2.3675526e-03,\n",
       "       -4.0327320e-03,  2.4897552e-03,  5.8915681e-04,  3.3639034e-03,\n",
       "       -1.1406986e-03, -4.0647471e-03, -2.7881734e-04, -2.0684679e-03,\n",
       "       -7.9000631e-04,  2.4537507e-03, -3.7086208e-03,  3.5503791e-03,\n",
       "        3.6286127e-03, -3.6497782e-03, -1.9894906e-03,  6.3273247e-04,\n",
       "        1.1428142e-03, -3.0971603e-03,  3.4210996e-03,  2.3234370e-03,\n",
       "        2.5579876e-03, -2.7640485e-03,  2.5692827e-03, -1.5479008e-03,\n",
       "       -3.4175178e-03,  2.8857528e-03,  1.2749629e-03, -3.5623596e-03,\n",
       "       -3.2110822e-03,  1.1821006e-03,  1.1717608e-04, -2.8549486e-03,\n",
       "       -7.9088489e-04,  1.4075409e-03,  1.1635139e-03, -3.1602711e-03,\n",
       "        5.1113754e-04, -1.2350476e-03,  2.8956605e-03, -3.1940346e-03,\n",
       "       -3.0897243e-03,  9.9944579e-04, -3.6691122e-03,  1.6041861e-03,\n",
       "        3.5810804e-03,  2.4525770e-03, -1.7714964e-03, -1.1281123e-03,\n",
       "       -7.5520365e-04,  3.2024770e-03, -3.3164094e-03, -2.1589980e-03,\n",
       "        2.2760492e-03, -3.1219443e-04,  9.6465141e-04, -4.2218901e-03,\n",
       "        3.8910646e-05, -3.0989244e-03, -3.8038432e-03, -2.5188597e-03,\n",
       "        9.9484494e-04, -3.2654521e-04,  7.8160188e-04, -3.4809634e-03,\n",
       "        2.4076404e-04,  2.2797924e-03,  8.7991892e-04, -1.5475904e-03,\n",
       "        3.9207973e-04,  1.9183212e-03, -3.1361894e-03, -3.3347933e-03],\n",
       "      dtype=float32)"
      ]
     },
     "execution_count": 15,
     "metadata": {
      "tags": []
     },
     "output_type": "execute_result"
    }
   ],
   "source": [
    "model_w2v[\"ALA\"]"
   ]
  },
  {
   "cell_type": "code",
   "execution_count": 16,
   "metadata": {
    "colab": {
     "autoexec": {
      "startup": false,
      "wait_interval": 0
     },
     "base_uri": "https://localhost:8080/",
     "height": 105
    },
    "colab_type": "code",
    "executionInfo": {
     "elapsed": 1604,
     "status": "ok",
     "timestamp": 1526260948950,
     "user": {
      "displayName": "大下健史",
      "photoUrl": "https://lh3.googleusercontent.com/a/default-user=s128",
      "userId": "114806679545096700120"
     },
     "user_tz": -540
    },
    "id": "D0oDOqsTYd0C",
    "outputId": "b71d56de-a7d7-46ed-8796-5f04fc48f089"
   },
   "outputs": [
    {
     "name": "stdout",
     "output_type": "stream",
     "text": [
      "total 3296\r\n",
      "drwxr-xr-x 1 root root    4096 Apr 30 16:29 datalab\r\n",
      "drwxr-xr-x 3 root root    4096 May 14 01:21 nltk_data\r\n",
      "-rw-r--r-- 1 root root 2067542 May 14 01:22 doc2vec.model\r\n",
      "-rw-r--r-- 1 root root 1296032 May 14 01:22 word2vec.model\r\n"
     ]
    }
   ],
   "source": [
    "model_w2v.save(\"word2vec.model\")\n",
    "!ls -ltr"
   ]
  },
  {
   "cell_type": "code",
   "execution_count": 0,
   "metadata": {
    "colab": {
     "autoexec": {
      "startup": false,
      "wait_interval": 0
     }
    },
    "colab_type": "code",
    "id": "P2LOkS5bZy7Y"
   },
   "outputs": [],
   "source": []
  }
 ],
 "metadata": {
  "colab": {
   "collapsed_sections": [],
   "default_view": {},
   "name": "vectorize.ipynb",
   "provenance": [],
   "version": "0.3.2",
   "views": {}
  },
  "kernelspec": {
   "display_name": "Python 3",
   "language": "python",
   "name": "python3"
  },
  "language_info": {
   "codemirror_mode": {
    "name": "ipython",
    "version": 3
   },
   "file_extension": ".py",
   "mimetype": "text/x-python",
   "name": "python",
   "nbconvert_exporter": "python",
   "pygments_lexer": "ipython3",
   "version": "3.6.5"
  }
 },
 "nbformat": 4,
 "nbformat_minor": 1
}
